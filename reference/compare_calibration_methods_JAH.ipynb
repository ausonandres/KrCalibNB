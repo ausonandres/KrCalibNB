{
 "cells": [
  {
   "cell_type": "markdown",
   "metadata": {},
   "source": [
    "# Compares calibration methods (Only lifetime with Lifetime+geometry)\n",
    "\n",
    "### JAH 04/08/18 "
   ]
  },
  {
   "cell_type": "markdown",
   "metadata": {},
   "source": [
    "<i>\n",
    "This notebook compares two calibrations methods: Gonzalo's based on a lifetime fit and them a refined geometry map with smaller bin pitches, and only lifetime map with fine bin pitches.\n",
    "</i>"
   ]
  },
  {
   "cell_type": "code",
   "execution_count": 2,
   "metadata": {},
   "outputs": [
    {
     "name": "stdout",
     "output_type": "stream",
     "text": [
      "Last updated on  Sat Aug  4 22:40:46 2018\n"
     ]
    }
   ],
   "source": [
    "import time\n",
    "print(\"Last updated on \", time.asctime())"
   ]
  },
  {
   "cell_type": "code",
   "execution_count": 3,
   "metadata": {
    "collapsed": true
   },
   "outputs": [],
   "source": [
    "%matplotlib inline\n",
    "%load_ext autoreload\n",
    "%autoreload 2"
   ]
  },
  {
   "cell_type": "markdown",
   "metadata": {},
   "source": [
    "### Notebook configuration"
   ]
  },
  {
   "cell_type": "code",
   "execution_count": 4,
   "metadata": {
    "collapsed": true,
    "scrolled": true
   },
   "outputs": [],
   "source": [
    "run_number                 = 6206\n",
    "multiple_kdsts             = True\n",
    "input_dst_filenames        = [f\"$IC_DATA/dsts/kdst_{run_number}_0_filtered.h5\",\n",
    "                              f\"$IC_DATA/dsts/kdst_{run_number}_1_filtered.h5\",\n",
    "                              f\"$IC_DATA/dsts/kdst_{run_number}_2_filtered.h5\",\n",
    "                              f\"$IC_DATA/dsts/kdst_{run_number}_3_filtered.h5\"\n",
    "                             ]\n",
    "run_number_correction      = 6206\n",
    "correction_filename        = f\"$IC_DATA/maps/akr_corrections_run{run_number_correction}.h5\"\n",
    "\n",
    "apply_geocorrection = True\n",
    "\n",
    "Rrange  =    0., 200.\n",
    "Zrange  =    0., 550.\n",
    "XYrange = -200., 200.\n",
    "E0range = 7.5e3, 13.5e3\n",
    "LTrange = 1.5e3,  3.0e3\n",
    "\n",
    "XYnbins      =  100\n"
   ]
  },
  {
   "cell_type": "markdown",
   "metadata": {},
   "source": [
    "### Imports"
   ]
  },
  {
   "cell_type": "code",
   "execution_count": 5,
   "metadata": {
    "scrolled": true
   },
   "outputs": [],
   "source": [
    "import os\n",
    "import time\n",
    "import datetime\n",
    "\n",
    "import tables            as tb\n",
    "import numpy             as np\n",
    "import matplotlib.pyplot as plt\n",
    "import matplotlib.dates  as md\n",
    "\n",
    "import invisible_cities.core.fit_functions as fitf\n",
    "\n",
    "from invisible_cities.core .core_functions import in_range\n",
    "from   invisible_cities.evm  .ic_containers  import Measurement\n",
    "\n",
    "from krcal.dev.table_info import RunInfo\n",
    "from krcal.dev.table_info import MapInfo\n",
    "\n",
    "import krcal.dev.akr_functions          as akr\n",
    "import krcal.dev.corrections            as corrections\n",
    "import krcal.utils.hst_extend_functions as hst\n",
    "import krcal.utils.plt_functions        as apt\n",
    "import krcal.utils.kdst_functions       as kdstf\n"
   ]
  },
  {
   "cell_type": "code",
   "execution_count": 6,
   "metadata": {
    "collapsed": true
   },
   "outputs": [],
   "source": [
    "# Plotting style\n",
    "default_cmap = \"jet\"\n",
    "figure_size  = 10, 8\n",
    "font_size    = 14\n",
    "\n",
    "plt.rcParams[\"figure.figsize\"] =   figure_size\n",
    "plt.rcParams[  \"font.size\"   ] =   font_size"
   ]
  },
  {
   "cell_type": "markdown",
   "metadata": {},
   "source": [
    "### Initialization"
   ]
  },
  {
   "cell_type": "code",
   "execution_count": 7,
   "metadata": {
    "collapsed": true,
    "scrolled": true
   },
   "outputs": [],
   "source": [
    "input_dst_filenames = [os.path.expandvars(fi) for fi in input_dst_filenames]\n",
    "correction_filename = os.path.expandvars(correction_filename)"
   ]
  },
  {
   "cell_type": "code",
   "execution_count": 8,
   "metadata": {
    "collapsed": true
   },
   "outputs": [],
   "source": [
    "dst = kdstf.load_dsts(input_dst_filenames, \"DST\", \"Events\")"
   ]
  },
  {
   "cell_type": "markdown",
   "metadata": {},
   "source": [
    "## Read data"
   ]
  },
  {
   "cell_type": "code",
   "execution_count": 9,
   "metadata": {
    "scrolled": true
   },
   "outputs": [
    {
     "name": "stdout",
     "output_type": "stream",
     "text": [
      "Total number of S2s   : 4534806 \n",
      "Total number of events: 4534806\n"
     ]
    }
   ],
   "source": [
    "unique_events = ~dst.event.duplicated()\n",
    "\n",
    "number_of_S2s_full  = np.size         (unique_events)\n",
    "number_of_evts_full = np.count_nonzero(unique_events)\n",
    "\n",
    "print(f\"Total number of S2s   : {number_of_S2s_full} \")\n",
    "print(f\"Total number of events: {number_of_evts_full}\")"
   ]
  },
  {
   "cell_type": "markdown",
   "metadata": {},
   "source": [
    "## Relevant data and corrections"
   ]
  },
  {
   "cell_type": "code",
   "execution_count": 10,
   "metadata": {
    "collapsed": true,
    "scrolled": true
   },
   "outputs": [],
   "source": [
    "X   = dst.X   .values\n",
    "Y   = dst.Y   .values\n",
    "Z   = dst.Z   .values\n",
    "R   = dst.R   .values\n",
    "Phi = dst.Phi .values\n",
    "S2e = dst.S2e .values\n",
    "S2q = dst.S2q .values\n",
    "T   = dst.time.values\n",
    "#TD  = np.array([datetime.datetime.fromtimestamp(itime) for itime in T])\n",
    "TH  = (T - T.min())/3600. # time in hours\n"
   ]
  },
  {
   "cell_type": "code",
   "execution_count": null,
   "metadata": {
    "collapsed": true
   },
   "outputs": [],
   "source": [
    "sel_r = in_range(R, *Rrange)\n",
    "sel_z = in_range(Z, *Zrange)\n",
    "sel   = sel_r & sel_z"
   ]
  },
  {
   "cell_type": "code",
   "execution_count": null,
   "metadata": {},
   "outputs": [
    {
     "name": "stdout",
     "output_type": "stream",
     "text": [
      "calibration file : /Users/hernando/investigacion/NEXT/data/runIV//maps/akr_corrections_run6206.h5\n",
      "node             : scale\n"
     ]
    }
   ],
   "source": [
    "calibrate = corrections.Calibration(correction_filename, 'scale')\n",
    "E, Q = calibrate(X, Y, Z, T, S2e, S2q)"
   ]
  },
  {
   "cell_type": "code",
   "execution_count": null,
   "metadata": {
    "collapsed": true,
    "scrolled": false
   },
   "outputs": [],
   "source": [
    "def plt_eresolution_fid(V, Vnbins, Vrange):\n",
    "    plt_energy(V[sel]    , Vnbins, Vrange, label = '$R < 200, Z < 550$')\n",
    "\n",
    "    sel_ri = in_range(R, 0., 150.)\n",
    "    sel_zi = in_range(Z, 0., 250.)\n",
    "    sel_fid = sel & sel_ri & sel_zi\n",
    "    plt_energy(V[sel_fid], Vnbins, Vrange, label= '$R < 150, Z < 250$')\n",
    "    return"
   ]
  },
  {
   "cell_type": "code",
   "execution_count": null,
   "metadata": {
    "collapsed": true
   },
   "outputs": [],
   "source": [
    "Ea = hst.Vaxis((11e3, 13.5e3), 100)"
   ]
  },
  {
   "cell_type": "code",
   "execution_count": null,
   "metadata": {},
   "outputs": [],
   "source": [
    "apt.plt_energy(E, Ea.bins, label = 'Z < 550, R < 200')\n",
    "sel_fid = in_range(R, 0., 150) & in_range(Z, 0., 250.)\n",
    "apt.plt_energy(E[sel_fid], Ea.bins, label = 'Z < 250, R < 150')"
   ]
  },
  {
   "cell_type": "code",
   "execution_count": null,
   "metadata": {},
   "outputs": [],
   "source": [
    "Ra = hst.Vaxis((0., 201.), step = 50)\n",
    "Za = hst.Vaxis((0., 501.), step = 50)\n",
    "\n",
    "apt.plt_eresolution_zr(E, R, Z, Ea.nbins, Ea.range, Ra.bins, Za.bins)"
   ]
  },
  {
   "cell_type": "markdown",
   "metadata": {},
   "source": [
    "## Compare with Gonzalo's"
   ]
  },
  {
   "cell_type": "code",
   "execution_count": null,
   "metadata": {},
   "outputs": [],
   "source": [
    "correction_filename = f\"$IC_DATA/maps/corrections_run{run_number_correction}.h5\"\n",
    "correction_filename = os.path.expandvars(correction_filename)"
   ]
  },
  {
   "cell_type": "code",
   "execution_count": null,
   "metadata": {},
   "outputs": [],
   "source": [
    "gcalibrate = corrections.Calibration(correction_filename, 'geometry')\n",
    "E2, Q2 = gcalibrate(X, Y, Z, T, S2e, S2q)"
   ]
  },
  {
   "cell_type": "code",
   "execution_count": null,
   "metadata": {},
   "outputs": [],
   "source": [
    "plt.subplot(2, 1, 1)\n",
    "apt.plt_energy(E, Ea.bins, label = 'Z < 550, R < 200')\n",
    "sel_fid = in_range(R, 0., 150) & in_range(Z, 0., 250.)\n",
    "apt.plt_energy(E[sel_fid], Ea.bins, label = 'Z < 250, R < 150')\n",
    "plt.title('scale')\n",
    "plt.subplot(2, 1, 2)\n",
    "apt.plt_energy(E2, Ea.bins, label = 'Z < 550, R < 200')\n",
    "sel_fid = in_range(R, 0., 150) & in_range(Z, 0., 250.)\n",
    "apt.plt_energy(E2[sel_fid], Ea.bins, label = 'Z < 250, R < 150')\n",
    "plt.title('geometry')\n",
    "plt.tight_layout()"
   ]
  },
  {
   "cell_type": "code",
   "execution_count": null,
   "metadata": {},
   "outputs": [],
   "source": [
    "plt.subplot(2, 1, 1)\n",
    "apt.plt_eresolution_zr(E, R, Z, Ea.nbins, Ea.range, Ra.bins, Za.bins)\n",
    "plt.title('scale')\n",
    "plt.subplot(2, 1, 2)\n",
    "apt.plt_eresolution_zr(E2, R, Z, Ea.nbins, Ea.range, Ra.bins, Za.bins)\n",
    "plt.title('geometry')\n",
    "plt.tight_layout()"
   ]
  },
  {
   "cell_type": "code",
   "execution_count": null,
   "metadata": {},
   "outputs": [],
   "source": [
    "print('Done!')"
   ]
  },
  {
   "cell_type": "code",
   "execution_count": null,
   "metadata": {
    "collapsed": true
   },
   "outputs": [],
   "source": []
  }
 ],
 "metadata": {
  "kernelspec": {
   "display_name": "Python 3",
   "language": "python",
   "name": "python3"
  },
  "language_info": {
   "codemirror_mode": {
    "name": "ipython",
    "version": 3
   },
   "file_extension": ".py",
   "mimetype": "text/x-python",
   "name": "python",
   "nbconvert_exporter": "python",
   "pygments_lexer": "ipython3",
   "version": "3.6.1"
  }
 },
 "nbformat": 4,
 "nbformat_minor": 2
}
