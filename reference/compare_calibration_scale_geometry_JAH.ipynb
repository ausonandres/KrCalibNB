{
 "cells": [
  {
   "cell_type": "markdown",
   "metadata": {},
   "source": [
    "# calibration - compare scale with geometry correction in Gonzalo's method\n",
    "# Does the gometry map improves the resolution compared with using only the scale map?\n",
    "\n",
    "## JAH 04/08/18"
   ]
  },
  {
   "cell_type": "markdown",
   "metadata": {},
   "source": [
    "<i>\n",
    "Compare calibration in Kr resolution using corrections from Gonzalo's method with Scale (obtained from the lifetime) and Geometry (with the gaussian refinement in x,y bins)\n",
    "</i>"
   ]
  },
  {
   "cell_type": "code",
   "execution_count": 1,
   "metadata": {},
   "outputs": [
    {
     "name": "stdout",
     "output_type": "stream",
     "text": [
      "Last updated on  Sat Aug  4 22:46:35 2018\n"
     ]
    }
   ],
   "source": [
    "import time\n",
    "print(\"Last updated on \", time.asctime())"
   ]
  },
  {
   "cell_type": "code",
   "execution_count": 2,
   "metadata": {
    "collapsed": true
   },
   "outputs": [],
   "source": [
    "%matplotlib inline\n",
    "%load_ext autoreload\n",
    "%autoreload 2"
   ]
  },
  {
   "cell_type": "markdown",
   "metadata": {},
   "source": [
    "### Notebook configuration"
   ]
  },
  {
   "cell_type": "code",
   "execution_count": 3,
   "metadata": {
    "collapsed": true,
    "scrolled": true
   },
   "outputs": [],
   "source": [
    "run_number                 = 6206\n",
    "input_dst_filenames        = [f\"$IC_DATA/dsts/kdst_{run_number}_0_filtered.h5\",\n",
    "                              f\"$IC_DATA/dsts/kdst_{run_number}_1_filtered.h5\",\n",
    "                              f\"$IC_DATA/dsts/kdst_{run_number}_2_filtered.h5\",\n",
    "                              f\"$IC_DATA/dsts/kdst_{run_number}_3_filtered.h5\"\n",
    "                             ]\n",
    "run_number_correction      = 6206\n",
    "correction_filename        = f\"$IC_DATA/maps/corrections_run{run_number_correction}.h5\"\n",
    "\n",
    "apply_geocorrection = True\n",
    "\n",
    "Rrange    =    0., 200.\n",
    "Zrange    =    0., 550.\n",
    "Rfidrange =    0., 150.\n",
    "Zfidrange =    0., 250.\n",
    "\n",
    "XYrange = -200., 200.\n",
    "E0range = 7.5e3, 13.5e3\n",
    "LTrange = 1.5e3,  3.0e3\n",
    "\n",
    "XYnbins      =  100"
   ]
  },
  {
   "cell_type": "markdown",
   "metadata": {},
   "source": [
    "### Imports"
   ]
  },
  {
   "cell_type": "code",
   "execution_count": 4,
   "metadata": {
    "collapsed": true,
    "scrolled": true
   },
   "outputs": [],
   "source": [
    "import os\n",
    "import time\n",
    "import datetime\n",
    "\n",
    "import tables            as tb\n",
    "import numpy             as np\n",
    "import matplotlib.pyplot as plt\n",
    "import matplotlib.dates  as md\n",
    "\n",
    "import invisible_cities.core.fit_functions as fitf\n",
    "\n",
    "from invisible_cities.core .core_functions import in_range\n",
    "from   invisible_cities.evm  .ic_containers  import Measurement\n",
    "\n",
    "from krcal.dev.table_info import RunInfo\n",
    "from krcal.dev.table_info import MapInfo\n",
    "\n",
    "import krcal.dev.akr_functions          as akr\n",
    "import krcal.dev.corrections            as corrections\n",
    "import krcal.utils.hst_extend_functions as hst\n",
    "import krcal.utils.plt_functions        as apt\n",
    "import krcal.utils.kdst_functions       as kdstf"
   ]
  },
  {
   "cell_type": "code",
   "execution_count": 5,
   "metadata": {
    "collapsed": true
   },
   "outputs": [],
   "source": [
    "# Plotting style\n",
    "default_cmap = \"jet\"\n",
    "figure_size  = 10, 8\n",
    "font_size    = 12\n",
    "\n",
    "plt.rcParams[\"figure.figsize\"] =   figure_size\n",
    "plt.rcParams[  \"font.size\"   ] =   font_size"
   ]
  },
  {
   "cell_type": "markdown",
   "metadata": {},
   "source": [
    "### Initialization"
   ]
  },
  {
   "cell_type": "code",
   "execution_count": 6,
   "metadata": {
    "collapsed": true,
    "scrolled": true
   },
   "outputs": [],
   "source": [
    "input_dst_filenames = [os.path.expandvars(fi) for fi in input_dst_filenames]\n",
    "correction_filename = os.path.expandvars(correction_filename)"
   ]
  },
  {
   "cell_type": "code",
   "execution_count": 7,
   "metadata": {},
   "outputs": [],
   "source": [
    "dst = kdstf.load_dsts(input_dst_filenames, \"DST\", \"Events\")"
   ]
  },
  {
   "cell_type": "markdown",
   "metadata": {},
   "source": [
    "## Read data"
   ]
  },
  {
   "cell_type": "code",
   "execution_count": 8,
   "metadata": {
    "scrolled": true
   },
   "outputs": [
    {
     "name": "stdout",
     "output_type": "stream",
     "text": [
      "Total number of S2s   : 4534806 \n",
      "Total number of events: 4534806\n"
     ]
    }
   ],
   "source": [
    "unique_events = ~dst.event.duplicated()\n",
    "\n",
    "number_of_S2s_full  = np.size         (unique_events)\n",
    "number_of_evts_full = np.count_nonzero(unique_events)\n",
    "\n",
    "print(f\"Total number of S2s   : {number_of_S2s_full} \")\n",
    "print(f\"Total number of events: {number_of_evts_full}\")"
   ]
  },
  {
   "cell_type": "markdown",
   "metadata": {},
   "source": [
    "## Relevant data and corrections"
   ]
  },
  {
   "cell_type": "code",
   "execution_count": 9,
   "metadata": {
    "collapsed": true,
    "scrolled": true
   },
   "outputs": [],
   "source": [
    "X   = dst.X   .values\n",
    "Y   = dst.Y   .values\n",
    "Z   = dst.Z   .values\n",
    "R   = dst.R   .values\n",
    "Phi = dst.Phi .values\n",
    "S2e = dst.S2e .values\n",
    "S2q = dst.S2q .values\n",
    "T   = dst.time.values\n",
    "# TD  = np.array([datetime.datetime.fromtimestamp(itime) for itime in T])\n",
    "TH  = (T - T.min())/3600. # time in hours"
   ]
  },
  {
   "cell_type": "code",
   "execution_count": 10,
   "metadata": {
    "collapsed": true
   },
   "outputs": [],
   "source": [
    "def str_range(Vname, Vrange, form = '3.0f'):\n",
    "    s = '{0:'+form+'} < '+Vname+' < {1:'+form+'}'\n",
    "    s = s.format(*Vrange)\n",
    "    return s"
   ]
  },
  {
   "cell_type": "code",
   "execution_count": 11,
   "metadata": {
    "collapsed": true
   },
   "outputs": [],
   "source": [
    "sel_r   = in_range(R, *Rrange)\n",
    "sel_z   = in_range(Z, *Zrange)\n",
    "sel     = sel_r & sel_z\n",
    "str_sel = str_range('R', Rrange) + str_range('Z', Zrange)\n",
    "\n",
    "sel_rfid    = in_range(R, *Rfidrange)\n",
    "sel_zfid    = in_range(Z, *Zfidrange)\n",
    "sel_fid     = sel_rfid & sel_zfid\n",
    "str_sel_fid = str_range('R', Rfidrange) + str_range('Z', Zfidrange)"
   ]
  },
  {
   "cell_type": "code",
   "execution_count": null,
   "metadata": {},
   "outputs": [
    {
     "name": "stdout",
     "output_type": "stream",
     "text": [
      "calibration file : /Users/hernando/investigacion/NEXT/data/runIV//maps/corrections_run6206.h5\n",
      "node             : geometry\n",
      "calibration file : /Users/hernando/investigacion/NEXT/data/runIV//maps/corrections_run6206.h5\n",
      "node             : scale\n"
     ]
    }
   ],
   "source": [
    "geo_calibrate = corrections.Calibration(correction_filename, node = 'geometry') \n",
    "esc_calibrate = corrections.Calibration(correction_filename, node = 'scale')"
   ]
  },
  {
   "cell_type": "code",
   "execution_count": null,
   "metadata": {
    "collapsed": true
   },
   "outputs": [],
   "source": [
    "EG, QG = geo_calibrate(X, Y, Z, T, S2e, S2q)"
   ]
  },
  {
   "cell_type": "code",
   "execution_count": null,
   "metadata": {
    "collapsed": true
   },
   "outputs": [],
   "source": [
    "ES, QS = esc_calibrate(X, Y, Z, T, S2e, S2q)"
   ]
  },
  {
   "cell_type": "code",
   "execution_count": null,
   "metadata": {},
   "outputs": [],
   "source": [
    "EGa = hst.Vaxis((11e3, 13.5e3), 100)\n",
    "plt.subplot(2, 1, 1)\n",
    "apt.plt_energy(EG[sel]    , EGa.bins, str_sel)\n",
    "apt.plt_energy(EG[sel_fid], EGa.bins, str_sel_fid)\n",
    "plt.xlabel('E (geometry corrected)')\n",
    "\n",
    "ESa = hst.Vaxis((9.5e3, 12.0e3), 100)\n",
    "plt.subplot(2, 1, 2)\n",
    "apt.plt_energy(ES[sel]    , ESa.bins, str_sel)\n",
    "apt.plt_energy(ES[sel_fid], ESa.bins, str_sel_fid)\n",
    "plt.xlabel('E (escale corrected)')\n",
    "\n",
    "plt.tight_layout()"
   ]
  },
  {
   "cell_type": "code",
   "execution_count": null,
   "metadata": {},
   "outputs": [],
   "source": [
    "Ra = hst.Vaxis((0., 201.), step=50.)\n",
    "Za = hst.Vaxis((0., 551.), step=50.)\n",
    "\n",
    "plt.subplot(2, 1, 1)\n",
    "apt.plt_eresolution_zr(EG, R, Z, EGa.nbins, EGa.range, Ra.bins, Za.bins)\n",
    "plt.title('E (geometry corrected)')\n",
    "plt.subplot(2, 1, 2)\n",
    "apt.plt_eresolution_zr(ES, R, Z, ESa.nbins, ESa.range, Ra.bins, Za.bins)\n",
    "plt.title('E (escale corrected)')\n",
    "plt.tight_layout()"
   ]
  },
  {
   "cell_type": "code",
   "execution_count": null,
   "metadata": {},
   "outputs": [],
   "source": [
    "print('Done!')"
   ]
  },
  {
   "cell_type": "code",
   "execution_count": null,
   "metadata": {
    "collapsed": true
   },
   "outputs": [],
   "source": []
  }
 ],
 "metadata": {
  "kernelspec": {
   "display_name": "Python 3",
   "language": "python",
   "name": "python3"
  },
  "language_info": {
   "codemirror_mode": {
    "name": "ipython",
    "version": 3
   },
   "file_extension": ".py",
   "mimetype": "text/x-python",
   "name": "python",
   "nbconvert_exporter": "python",
   "pygments_lexer": "ipython3",
   "version": "3.6.1"
  }
 },
 "nbformat": 4,
 "nbformat_minor": 2
}
