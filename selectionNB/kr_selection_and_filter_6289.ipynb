{
 "cells": [
  {
   "cell_type": "markdown",
   "metadata": {},
   "source": [
    "# Selection of krypton events in terms of S1 and S2"
   ]
  },
  {
   "cell_type": "markdown",
   "metadata": {},
   "source": [
    "## Authors: JAH, GML, JJGC"
   ]
  },
  {
   "cell_type": "markdown",
   "metadata": {},
   "source": [
    "### Description:\n",
    "\n",
    "- This is a template to illustrate selection and filter of kdst events in order to compute lifetime and geometry maps.\n",
    "- It uses as example run 6206. During this run, in addition of Krypton there were Cd and Th sources in the chamber.\n",
    "- Cs and Th sources result in X-rays that introduce a slight contamination in the Kr data sample, cleaned up by the selection and filtering.\n",
    "- The most important cleaning cut is to require 1 S1 and 1 S2, in the range of energies compatible with Krypton. \n",
    "- Additional cuts are illustrated in the NB"
   ]
  },
  {
   "cell_type": "code",
   "execution_count": 1,
   "metadata": {},
   "outputs": [
    {
     "name": "stdout",
     "output_type": "stream",
     "text": [
      "Last updated on  Fri Aug 24 12:20:12 2018\n"
     ]
    }
   ],
   "source": [
    "import time\n",
    "print(\"Last updated on \", time.asctime())"
   ]
  },
  {
   "cell_type": "code",
   "execution_count": 2,
   "metadata": {},
   "outputs": [],
   "source": [
    "run_number  = 6289\n",
    "file_range  = 0, 8005  \n",
    "\n",
    "input_path  = f\"$IC_DATA/kdst\"\n",
    "output_path = f\"$IC_DATA/dst\"\n",
    "log_path    = f\"$IC_DATA/log\"\n",
    "trigger     = 'trigger1'\n",
    "tags        = 'v0.9.9_20180807_krbg'\n",
    "\n",
    "bootstrap_correction_filename   = f\"$IC_DATA/maps/kr_corrections_run6206.h5\"\n",
    "write_filtered_dst = True"
   ]
  },
  {
   "cell_type": "code",
   "execution_count": 3,
   "metadata": {},
   "outputs": [],
   "source": [
    "%matplotlib inline\n",
    "%load_ext autoreload\n",
    "%autoreload 2\n",
    "import matplotlib.pyplot as plt\n",
    "plt.rcParams[\"figure.figsize\"] = 10, 8\n",
    "plt.rcParams[\"font.size\"     ] = 14"
   ]
  },
  {
   "cell_type": "code",
   "execution_count": 4,
   "metadata": {},
   "outputs": [],
   "source": [
    "import os\n",
    "import time\n",
    "import datetime \n",
    "import numpy as np\n",
    "import pandas as pd\n",
    "import tables            as tb\n",
    "import random\n",
    "import glob\n"
   ]
  },
  {
   "cell_type": "code",
   "execution_count": 5,
   "metadata": {},
   "outputs": [],
   "source": [
    "from  invisible_cities.io.dst_io              import load_dsts\n",
    "from  invisible_cities.core .core_functions   import in_range\n",
    "from  invisible_cities.core.system_of_units_c import units\n"
   ]
  },
  {
   "cell_type": "code",
   "execution_count": 6,
   "metadata": {},
   "outputs": [],
   "source": [
    "from krcal.core.io_functions       import filenames_from_paths\n",
    "from krcal.core.io_functions       import write_monitor_vars\n",
    "from krcal.core.io_functions       import kdst_write\n",
    "from krcal.core.histo_functions    import h1, h1d, h2d, plot_histo"
   ]
  },
  {
   "cell_type": "code",
   "execution_count": 7,
   "metadata": {},
   "outputs": [],
   "source": [
    "from krcal.core.kr_types           import PlotLabels\n",
    "from krcal.core.analysis_functions import kr_ranges_and_bins\n",
    "from krcal.core.analysis_functions import kr_event\n",
    "from krcal.core.analysis_functions import selection_info\n",
    "from krcal.core.analysis_functions import selection_in_band\n",
    "from krcal.core.analysis_functions import plot_selection_in_band\n",
    "from krcal.core.s1s2_functions     import s1d_from_dst\n",
    "from krcal.core.s1s2_functions     import s2d_from_dst\n",
    "from krcal.core.s1s2_functions     import plot_s1histos\n",
    "from krcal.core.s1s2_functions     import plot_s2histos"
   ]
  },
  {
   "cell_type": "code",
   "execution_count": 8,
   "metadata": {},
   "outputs": [],
   "source": [
    "from krcal.core.plt_functions      import plot_xy_density\n",
    "from krcal.core.plt_functions      import plot_s1_vs_z\n",
    "from krcal.core.plt_functions      import plot_s2_vs_z\n",
    "from krcal.core.plt_functions      import plot_s2_vs_s1\n",
    "from krcal.core.plt_functions      import plot_q_vs_s2\n",
    "from krcal.core.plt_functions      import plot_energy_distributions\n",
    "from krcal.core.plt_functions      import plot_energy_vs_t\n"
   ]
  },
  {
   "cell_type": "code",
   "execution_count": 9,
   "metadata": {},
   "outputs": [],
   "source": [
    "import krcal.dev.corrections       as corrections \n",
    "import krcal.utils.hst_extend_functions as hst"
   ]
  },
  {
   "cell_type": "code",
   "execution_count": 10,
   "metadata": {},
   "outputs": [],
   "source": [
    "from krcal.core.core_functions          import time_delta_from_time"
   ]
  },
  {
   "cell_type": "markdown",
   "metadata": {},
   "source": [
    "### Input/output "
   ]
  },
  {
   "cell_type": "code",
   "execution_count": 11,
   "metadata": {},
   "outputs": [
    {
     "name": "stdout",
     "output_type": "stream",
     "text": [
      "input dsts:\n",
      " first = /Users/jjgomezcadenas/Projects/ICDATA/kdst/6289/kdst_0000_6289_trigger1_v0.9.9_20180807_krbg.h5\n",
      " last = /Users/jjgomezcadenas/Projects/ICDATA/kdst/6289/kdst_8004_6289_trigger1_v0.9.9_20180807_krbg.h5\n",
      "output dst = /Users/jjgomezcadenas/Projects/ICDATA/dst/dst_6289_trigger1_0000_8004.h5\n",
      "log file   = /Users/jjgomezcadenas/Projects/ICDATA/log/log_6289_trigger1_0000_8004.h5\n"
     ]
    }
   ],
   "source": [
    "input_dst_filenames, output_dst_filename, log_filename = filenames_from_paths(run_number,\n",
    "                                                                              input_path,\n",
    "                                                                              output_path,\n",
    "                                                                              log_path,\n",
    "                                                                              trigger,\n",
    "                                                                              tags,\n",
    "                                                                              file_range)\n",
    "                                                                              \n",
    "print(f'input dsts:\\n first = {input_dst_filenames[0]}\\n last = {input_dst_filenames[-1]}')\n",
    "print(f\"output dst = {output_dst_filename}\")\n",
    "print(f\"log file   = {log_filename}\")                       "
   ]
  },
  {
   "cell_type": "code",
   "execution_count": 12,
   "metadata": {},
   "outputs": [],
   "source": [
    "dst_full           = load_dsts(input_dst_filenames, \"DST\", \"Events\")"
   ]
  },
  {
   "cell_type": "code",
   "execution_count": 13,
   "metadata": {},
   "outputs": [
    {
     "name": "stdout",
     "output_type": "stream",
     "text": [
      "Total number of S2s   : 2731564 \n",
      "Total number of events: 2268626\n"
     ]
    }
   ],
   "source": [
    "unique_events = ~dst_full.event.duplicated()\n",
    "\n",
    "number_of_S2s_full  = np.size         (unique_events)\n",
    "number_of_evts_full = np.count_nonzero(unique_events)\n",
    "\n",
    "print(f\"Total number of S2s   : {number_of_S2s_full} \")\n",
    "print(f\"Total number of events: {number_of_evts_full}\")"
   ]
  },
  {
   "cell_type": "code",
   "execution_count": 14,
   "metadata": {},
   "outputs": [
    {
     "data": {
      "text/plain": [
       "Index(['event', 'time', 's1_peak', 's2_peak', 'nS1', 'nS2', 'S1w', 'S1h',\n",
       "       'S1e', 'S1t', 'S2w', 'S2h', 'S2e', 'S2q', 'S2t', 'Nsipm', 'DT', 'Z',\n",
       "       'Zrms', 'X', 'Y', 'R', 'Phi', 'Xrms', 'Yrms'],\n",
       "      dtype='object')"
      ]
     },
     "execution_count": 14,
     "metadata": {},
     "output_type": "execute_result"
    }
   ],
   "source": [
    "dst_full.columns"
   ]
  },
  {
   "cell_type": "code",
   "execution_count": 15,
   "metadata": {},
   "outputs": [
    {
     "name": "stdout",
     "output_type": "stream",
     "text": [
      "length of dst = 2731564\n"
     ]
    }
   ],
   "source": [
    "ntot = len(dst_full)\n",
    "print(f\"length of dst = {ntot}\")"
   ]
  },
  {
   "cell_type": "markdown",
   "metadata": {},
   "source": [
    "### S1/S2"
   ]
  },
  {
   "cell_type": "code",
   "execution_count": 16,
   "metadata": {},
   "outputs": [
    {
     "data": {
      "image/png": "[encoded data removed]",
      "text/plain": [
       "<Figure size 432x432 with 1 Axes>"
      ]
     },
     "metadata": {},
     "output_type": "display_data"
    }
   ],
   "source": [
    "n, b, _, _ = h1d(dst_full.nS1.values, bins = 10, range = (0,10),\n",
    "           pltLabels=PlotLabels(x='nS1', y='Entries', title='nS1'))"
   ]
  },
  {
   "cell_type": "code",
   "execution_count": 17,
   "metadata": {},
   "outputs": [
    {
     "name": "stdout",
     "output_type": "stream",
     "text": [
      "fraction of S1s = 0.7567335050542473\n"
     ]
    }
   ],
   "source": [
    "fnS1 = n[n.argmax()]/np.sum(n)\n",
    "print(f'fraction of S1s = {fnS1}')"
   ]
  },
  {
   "cell_type": "markdown",
   "metadata": {},
   "source": [
    "#### Fraction of events with 1 S1 is 0.5, due to grass and high energy events. For Krypton select events with 1 S1"
   ]
  },
  {
   "cell_type": "markdown",
   "metadata": {},
   "source": [
    "### Select events with 1 S1"
   ]
  },
  {
   "cell_type": "code",
   "execution_count": 18,
   "metadata": {},
   "outputs": [],
   "source": [
    "dst1s1 = dst_full[dst_full.nS1==1]"
   ]
  },
  {
   "cell_type": "code",
   "execution_count": 19,
   "metadata": {},
   "outputs": [
    {
     "data": {
      "image/png": "[encoded data removed]",
      "text/plain": [
       "<Figure size 432x432 with 1 Axes>"
      ]
     },
     "metadata": {},
     "output_type": "display_data"
    }
   ],
   "source": [
    "n, b, _, _ = h1d(dst1s1.nS2.values, bins = 10, range = (0,10),\n",
    "           pltLabels=PlotLabels(x='nS2', y='Entries', title='nS2'))"
   ]
  },
  {
   "cell_type": "markdown",
   "metadata": {},
   "source": [
    "#### For Krypton select events with only 1 S2"
   ]
  },
  {
   "cell_type": "code",
   "execution_count": 20,
   "metadata": {},
   "outputs": [
    {
     "name": "stdout",
     "output_type": "stream",
     "text": [
      "fraction of S2s = 0.947683005709094\n"
     ]
    }
   ],
   "source": [
    "fnS2 = n[n.argmax()]/np.sum(n)\n",
    "print(f'fraction of S2s = {fnS2}')"
   ]
  },
  {
   "cell_type": "markdown",
   "metadata": {},
   "source": [
    "### Select events with 1 S2"
   ]
  },
  {
   "cell_type": "code",
   "execution_count": 21,
   "metadata": {},
   "outputs": [],
   "source": [
    "dst    = dst1s1[dst1s1.nS2==1]"
   ]
  },
  {
   "cell_type": "code",
   "execution_count": 22,
   "metadata": {},
   "outputs": [
    {
     "name": "stdout",
     "output_type": "stream",
     "text": [
      "Total number of events with 1 s1 and 1 s2 : 1958911: selection eff = 0.7171389723982304 \n"
     ]
    }
   ],
   "source": [
    "n_full   = len(dst)\n",
    "eff = n_full   / ntot \n",
    "print(f\"Total number of events with 1 s1 and 1 s2 : {n_full}: selection eff = {eff} \")"
   ]
  },
  {
   "cell_type": "markdown",
   "metadata": {},
   "source": [
    "### S1 and S2 distributions"
   ]
  },
  {
   "cell_type": "code",
   "execution_count": 23,
   "metadata": {},
   "outputs": [],
   "source": [
    "s1d = s1d_from_dst(dst)"
   ]
  },
  {
   "cell_type": "code",
   "execution_count": 24,
   "metadata": {},
   "outputs": [
    {
     "data": {
      "image/png": "[encoded data removed]",
      "text/plain": [
       "<Figure size 720x720 with 7 Axes>"
      ]
     },
     "metadata": {},
     "output_type": "display_data"
    }
   ],
   "source": [
    "plot_s1histos(dst,  s1d, bins=40, figsize=(10,10))"
   ]
  },
  {
   "cell_type": "markdown",
   "metadata": {},
   "source": [
    "### Fiducial selection in S1"
   ]
  },
  {
   "cell_type": "markdown",
   "metadata": {},
   "source": [
    "#### 2 < S1e < 25 pes, which cuts off very low and high energy events"
   ]
  },
  {
   "cell_type": "code",
   "execution_count": 25,
   "metadata": {},
   "outputs": [],
   "source": [
    "s1e_range =(3, 25)"
   ]
  },
  {
   "cell_type": "code",
   "execution_count": 26,
   "metadata": {},
   "outputs": [],
   "source": [
    "dst_s1e    = dst[in_range(dst.S1e, *s1e_range)] "
   ]
  },
  {
   "cell_type": "code",
   "execution_count": null,
   "metadata": {},
   "outputs": [],
   "source": [
    "s1d = s1d_from_dst(dst_s1e, range_s1e = s1e_range)\n",
    "plot_s1histos(dst_s1e,  s1d, bins=20, figsize=(10,10))"
   ]
  },
  {
   "cell_type": "code",
   "execution_count": null,
   "metadata": {},
   "outputs": [],
   "source": [
    "dst = dst_s1e\n",
    "s2d = s2d_from_dst(dst)\n",
    "plot_s2histos(dst, s2d, bins=40, emin=1000, emax=15000, figsize=(10,10))"
   ]
  },
  {
   "cell_type": "markdown",
   "metadata": {},
   "source": [
    "### Fiducial selection in S2"
   ]
  },
  {
   "cell_type": "markdown",
   "metadata": {},
   "source": [
    "#### Nsipm >10, 2000 < S2e < 14000, 5 < s2w < 15, to define well behaved events"
   ]
  },
  {
   "cell_type": "code",
   "execution_count": null,
   "metadata": {},
   "outputs": [],
   "source": [
    "Nsipm_min = 15 \n",
    "s2e_range =(3000, 13000)\n",
    "s2w_range =(5, 15)\n",
    "s2q_range =(200, 800)"
   ]
  },
  {
   "cell_type": "code",
   "execution_count": null,
   "metadata": {},
   "outputs": [],
   "source": [
    "dst_sipm    = dst[dst.Nsipm >Nsipm_min] \n",
    "dst_s2e    = dst_sipm[in_range(dst_sipm.S2e, *s2e_range)] \n",
    "dst_s2w    = dst_s2e[in_range(dst_s2e.S2w, *s2w_range)]\n",
    "dst_s2q    = dst_s2w[in_range(dst_s2w.S2q, *s2q_range)]\n",
    "dst = dst_s2q"
   ]
  },
  {
   "cell_type": "code",
   "execution_count": null,
   "metadata": {},
   "outputs": [],
   "source": [
    "s2d = s2d_from_dst(dst_s2e)\n",
    "plot_s2histos(dst, s2d, bins=40, emin=1000, emax=15000, figsize=(10,10))"
   ]
  },
  {
   "cell_type": "markdown",
   "metadata": {},
   "source": [
    "### Time differences in seconds"
   ]
  },
  {
   "cell_type": "code",
   "execution_count": null,
   "metadata": {},
   "outputs": [],
   "source": [
    "dst_time = dst.sort_values('event')\n",
    "T       = dst_time.time.values\n",
    "DT      = time_delta_from_time(T)"
   ]
  },
  {
   "cell_type": "markdown",
   "metadata": {},
   "source": [
    "### Define ranges and bins"
   ]
  },
  {
   "cell_type": "code",
   "execution_count": null,
   "metadata": {},
   "outputs": [],
   "source": [
    "krTimes, krRanges, krNbins, krBins = kr_ranges_and_bins(dst,\n",
    "                                                        xxrange   = (-220,  220),\n",
    "                                                        yrange    = (-220,  220),\n",
    "                                                        zrange    = (10,  550),\n",
    "                                                        s2erange  = s2e_range,\n",
    "                                                        s1erange  = s1e_range,\n",
    "                                                        s2qrange  = s2q_range,\n",
    "                                                        xnbins    = 100,\n",
    "                                                        ynbins    = 100,\n",
    "                                                        znbins    = 50,\n",
    "                                                        s2enbins  = 50,\n",
    "                                                        s1enbins  = 50,\n",
    "                                                        s2qnbins  = 50,\n",
    "                                                        tpsamples = 3600) # tsamples in seconds"
   ]
  },
  {
   "cell_type": "markdown",
   "metadata": {},
   "source": [
    "### Time\n",
    "- Extension in hours of data sample considered"
   ]
  },
  {
   "cell_type": "code",
   "execution_count": null,
   "metadata": {},
   "outputs": [],
   "source": [
    "plt.plot(krTimes.timeStamps)"
   ]
  },
  {
   "cell_type": "markdown",
   "metadata": {},
   "source": [
    "### Control distributions"
   ]
  },
  {
   "cell_type": "code",
   "execution_count": null,
   "metadata": {},
   "outputs": [],
   "source": [
    "nevt = h2d(dst.X, dst.Y, krNbins.X, krNbins.Y, krRanges.X, krRanges.Y, \n",
    "           pltLabels=PlotLabels(x='X (mm)', y='Y (mm)', title='X vs Y'),\n",
    "           profile=False,\n",
    "           figsize=(10,8))"
   ]
  },
  {
   "cell_type": "code",
   "execution_count": null,
   "metadata": {},
   "outputs": [],
   "source": [
    "nevt = h2d(dst.Z, dst.S1e, krNbins.Z, krNbins.S1e, krRanges.Z, (0,20), \n",
    "           pltLabels=PlotLabels(x='Z (mm)', y='S1e (pes)', title='S1 vs Z'),\n",
    "           profile=False,\n",
    "           figsize=(10,8))"
   ]
  },
  {
   "cell_type": "markdown",
   "metadata": {},
   "source": [
    "#### S1 vs Z distribution:\n",
    "\n",
    "- Concentrated at low Z: This is due to the fact that gas flow is higher near the anode, and thus there is more krypton near the anode than near the cathode. \n",
    "- Increases as a function of Z. The closer to the cathode the larger S1\n",
    "- Spread is large: This is due to large variation of solid angle, depending on (X,Y)"
   ]
  },
  {
   "cell_type": "code",
   "execution_count": null,
   "metadata": {},
   "outputs": [],
   "source": [
    "nevt = h2d(dst.Z, dst.S2e, krNbins.Z, krNbins.S1e, krRanges.Z, krRanges.S2e, \n",
    "           pltLabels=PlotLabels(x='Z (mm)', y='S2e (pes)', title='S2 vs Z'),\n",
    "           profile=True,\n",
    "           figsize=(10,8))"
   ]
  },
  {
   "cell_type": "markdown",
   "metadata": {},
   "source": [
    "#### S2 vs Z distribution:\n",
    "\n",
    "- Concentrated at low Z: This is due to the fact that gas flow is higher near the anode, and thus there is more krypton near the anode than near the cathode. \n",
    "- Decreases as a function of Z, due to lifetime\n",
    "- Spread is large: This is due to large variation of solid angle, depending on (X,Y)"
   ]
  },
  {
   "cell_type": "code",
   "execution_count": null,
   "metadata": {},
   "outputs": [],
   "source": [
    "nevt = h2d(dst.S1e, dst.S2e, krNbins.S1e, krNbins.S2e, krRanges.S1e, krRanges.S2e, \n",
    "           pltLabels=PlotLabels(x='S1e (pes)', y='S2e (pes)', title='S2 vs S1'),\n",
    "           profile=False,\n",
    "           figsize=(10,8))"
   ]
  },
  {
   "cell_type": "markdown",
   "metadata": {},
   "source": [
    "#### S2 vs S1 distribution:\n",
    "\n",
    "- Small anti-correlation (more S2 less S1). "
   ]
  },
  {
   "cell_type": "code",
   "execution_count": null,
   "metadata": {},
   "outputs": [],
   "source": [
    "nevt = h2d(dst.S2e, dst.S2q, krNbins.S2e, krNbins.S2q, krRanges.S2e, krRanges.S2q, \n",
    "           pltLabels=PlotLabels(x='S2q (pes)', y='S2e (pes)', title='S2q vs S2e'),\n",
    "           profile=False,\n",
    "           figsize=(10,8))"
   ]
  },
  {
   "cell_type": "markdown",
   "metadata": {},
   "source": [
    "#### S2 vs Q distribution:\n",
    "\n",
    "- Clear correlation between S2 and Q "
   ]
  },
  {
   "cell_type": "markdown",
   "metadata": {},
   "source": [
    "### Select central region in R "
   ]
  },
  {
   "cell_type": "markdown",
   "metadata": {},
   "source": [
    "#### The effect is to reduce the dependence of geometrical corrections"
   ]
  },
  {
   "cell_type": "code",
   "execution_count": null,
   "metadata": {},
   "outputs": [],
   "source": [
    "dst_R     = dst[dst.R < 100]"
   ]
  },
  {
   "cell_type": "code",
   "execution_count": null,
   "metadata": {},
   "outputs": [],
   "source": [
    "plot_energy_distributions(dst_R, krBins.Z, krBins.S1e, krBins.S2e, krBins.S2q, figsize=(14,12))"
   ]
  },
  {
   "cell_type": "markdown",
   "metadata": {},
   "source": [
    "### Select central region in Z\n",
    "\n",
    "- The effect is to reduce the dependence of lifetime"
   ]
  },
  {
   "cell_type": "code",
   "execution_count": null,
   "metadata": {},
   "outputs": [],
   "source": [
    "dst_core     = dst_R[dst_R.Z < 200]"
   ]
  },
  {
   "cell_type": "markdown",
   "metadata": {},
   "source": [
    "### Energy in core"
   ]
  },
  {
   "cell_type": "code",
   "execution_count": null,
   "metadata": {},
   "outputs": [],
   "source": [
    "(_) = h1d(dst_core.S2e, bins = 50, range =(3000,13000), legendloc='upper left')"
   ]
  },
  {
   "cell_type": "markdown",
   "metadata": {},
   "source": [
    "### Apply bootstrap corrections.\n",
    "\n",
    "- One can correct S2e and S2q by geometrical corrections using an existing map (a bootstrap map). This has the effect to reduce the geometrical dependence on both distributions, permitting an additional filtering"
   ]
  },
  {
   "cell_type": "code",
   "execution_count": null,
   "metadata": {},
   "outputs": [],
   "source": [
    "kre = kr_event(dst)"
   ]
  },
  {
   "cell_type": "code",
   "execution_count": null,
   "metadata": {},
   "outputs": [],
   "source": [
    "bootstrap_correction_filename = os.path.expandvars(bootstrap_correction_filename)\n",
    "calibrate = corrections.Calibration(bootstrap_correction_filename)\n",
    "E, Q = calibrate(kre.X, kre.Y, None, kre.T, kre.S2e, kre.S2q)"
   ]
  },
  {
   "cell_type": "code",
   "execution_count": null,
   "metadata": {},
   "outputs": [],
   "source": [
    "kge = kr_event(dst, DT, E, Q)"
   ]
  },
  {
   "cell_type": "code",
   "execution_count": null,
   "metadata": {},
   "outputs": [],
   "source": [
    "(_) = h1d(kge.E, bins = 50, range =(3000,12000))"
   ]
  },
  {
   "cell_type": "markdown",
   "metadata": {},
   "source": [
    "#### Plot of E and Q corrected vs Z shows much less spread (XY corrections applied only remaining LT corrections)"
   ]
  },
  {
   "cell_type": "code",
   "execution_count": null,
   "metadata": {},
   "outputs": [],
   "source": [
    "nevt = h2d(dst.Z, E, krNbins.Z, krNbins.S2e, krRanges.Z, krRanges.S2e, \n",
    "           pltLabels=PlotLabels(x='Z', y='E corrected', title='E corrected vs Z'),\n",
    "           profile=True,\n",
    "           figsize=(10,6))"
   ]
  },
  {
   "cell_type": "code",
   "execution_count": null,
   "metadata": {},
   "outputs": [],
   "source": [
    "nevt = h2d(dst.Z, Q, krNbins.Z, krNbins.S2q, krRanges.Z, krRanges.S2q, \n",
    "           pltLabels=PlotLabels(x='Z', y='Q corrected', title='Q corrected vs Z'),\n",
    "           profile=True,\n",
    "           figsize=(10,6))"
   ]
  },
  {
   "cell_type": "markdown",
   "metadata": {},
   "source": [
    "### Filter"
   ]
  },
  {
   "cell_type": "code",
   "execution_count": null,
   "metadata": {},
   "outputs": [],
   "source": [
    "range_krs2 = (7e+3,12e+3)"
   ]
  },
  {
   "cell_type": "code",
   "execution_count": null,
   "metadata": {},
   "outputs": [],
   "source": [
    "sel_krband, fpl, fph, hp, pp = selection_in_band(kre.Z, E,\n",
    "                                                 range_z = krRanges.Z,\n",
    "                                                 range_e = range_krs2,\n",
    "                                                 nbins_z = 50,\n",
    "                                                 nbins_e = 50,\n",
    "                                                 nsigma  = 3.5)"
   ]
  },
  {
   "cell_type": "code",
   "execution_count": null,
   "metadata": {},
   "outputs": [],
   "source": [
    "plot_selection_in_band(fpl, fph, hp, pp)"
   ]
  },
  {
   "cell_type": "code",
   "execution_count": null,
   "metadata": {},
   "outputs": [],
   "source": [
    "selection_info(sel_krband, 'Kr band')"
   ]
  },
  {
   "cell_type": "code",
   "execution_count": null,
   "metadata": {},
   "outputs": [],
   "source": [
    "kges = kr_event(dst, DT, E, Q, sel_mask=sel_krband)"
   ]
  },
  {
   "cell_type": "markdown",
   "metadata": {},
   "source": [
    "### Energy before and after filter"
   ]
  },
  {
   "cell_type": "code",
   "execution_count": null,
   "metadata": {},
   "outputs": [],
   "source": [
    "fig = plt.figure(figsize=(12,6))\n",
    "ax      = fig.add_subplot(1, 2, 1)\n",
    "(_)     = h1(kge.E,  bins = 50, range =(3000,12000))\n",
    "plot_histo(PlotLabels('E (pes)','Entries','Pre-filter'), ax, legendloc='upper left')\n",
    "ax      = fig.add_subplot(1, 2, 2)\n",
    "(_)     = h1(kges.E,  bins = 50, range =(3000,12000))\n",
    "plot_histo(PlotLabels('E (pes)','Entries','Post-filter'), ax, legendloc='upper left')\n",
    "plt.tight_layout()"
   ]
  },
  {
   "cell_type": "code",
   "execution_count": null,
   "metadata": {},
   "outputs": [],
   "source": [
    "nevt = h2d(kges.Z, kges.E, krNbins.Z, krNbins.S2e, krRanges.Z, krRanges.S2e, \n",
    "           pltLabels=PlotLabels(x='Z', y='E corrected', title='E corrected vs Z post filter'),\n",
    "           profile=True,\n",
    "           figsize=(10,6))"
   ]
  },
  {
   "cell_type": "code",
   "execution_count": null,
   "metadata": {},
   "outputs": [],
   "source": [
    "nevt = h2d(kges.Z, kges.Q, krNbins.Z, krNbins.S2q, krRanges.Z, krRanges.S2q, \n",
    "           pltLabels=PlotLabels(x='Z', y='Q corrected', title='Q corrected vs Z post-filter'),\n",
    "           profile=True,\n",
    "           figsize=(10,6))"
   ]
  },
  {
   "cell_type": "markdown",
   "metadata": {},
   "source": [
    "#### Notice how the filter cleans up the energy distributions. "
   ]
  },
  {
   "cell_type": "markdown",
   "metadata": {},
   "source": [
    "### Time evolution"
   ]
  },
  {
   "cell_type": "code",
   "execution_count": null,
   "metadata": {},
   "outputs": [],
   "source": [
    "fig = plt.figure(figsize=(10,6))\n",
    "ax      = fig.add_subplot(1, 1, 1)\n",
    "(_)    = h1(kge.T, bins=500, range = (kge.T.min(), kge.T.max()), color='red', stats=False, lbl='pre-sel')\n",
    "plot_histo(PlotLabels('Time','Entries',''), ax)\n",
    "(_)    = h1(kges.T, bins=500, range = (kges.T.min(), kges.T.max()), color='blue',stats=False, lbl='post-sel')\n",
    "plot_histo(PlotLabels('Time','Entries',''), ax)"
   ]
  },
  {
   "cell_type": "markdown",
   "metadata": {},
   "source": [
    "#### event density is constant, indicating a stable run"
   ]
  },
  {
   "cell_type": "markdown",
   "metadata": {},
   "source": [
    "### S1 and Corrected E and Q as a function of T"
   ]
  },
  {
   "cell_type": "code",
   "execution_count": null,
   "metadata": {},
   "outputs": [],
   "source": [
    "nevt = h2d(kges.T, kges.S1e, krNbins.T, krNbins.S1e, krRanges.T, krRanges.S1e, \n",
    "           pltLabels=PlotLabels(x='T', y='S1 corrected', title='S1 vs T post-filter'),\n",
    "           profile=True,\n",
    "           figsize=(10,6))"
   ]
  },
  {
   "cell_type": "code",
   "execution_count": null,
   "metadata": {},
   "outputs": [],
   "source": [
    "nevt = h2d(kges.T, kges.E, krNbins.T, krNbins.S2e, krRanges.T, krRanges.S2e, \n",
    "           pltLabels=PlotLabels(x='T', y='E corrected', title='E corrected vs T post-filter'),\n",
    "           profile=True,\n",
    "           figsize=(10,6))"
   ]
  },
  {
   "cell_type": "code",
   "execution_count": null,
   "metadata": {},
   "outputs": [],
   "source": [
    "nevt = h2d(kges.T, kges.Q, krNbins.T, krNbins.S2q, krRanges.T, krRanges.S2q, \n",
    "           pltLabels=PlotLabels(x='T', y='Q corrected', title='Q corrected vs T post-filter'),\n",
    "           profile=True,\n",
    "           figsize=(10,6))"
   ]
  },
  {
   "cell_type": "markdown",
   "metadata": {},
   "source": [
    "### All amplitudes are constant as a function of time in an stable run"
   ]
  },
  {
   "cell_type": "markdown",
   "metadata": {},
   "source": [
    "### Select dst "
   ]
  },
  {
   "cell_type": "code",
   "execution_count": null,
   "metadata": {},
   "outputs": [],
   "source": [
    "dsts = dst[sel_krband]"
   ]
  },
  {
   "cell_type": "markdown",
   "metadata": {},
   "source": [
    "### X vs Y again"
   ]
  },
  {
   "cell_type": "code",
   "execution_count": null,
   "metadata": {},
   "outputs": [],
   "source": [
    "nevt = h2d(dsts.X, dsts.Y, krNbins.X, krNbins.Y, krRanges.X, krRanges.Y, \n",
    "           pltLabels=PlotLabels(x='X (mm)', y='Y (mm)', title='X vs Y post-filter'),\n",
    "           profile=False,\n",
    "           figsize=(10,8))"
   ]
  },
  {
   "cell_type": "markdown",
   "metadata": {},
   "source": [
    "### Spatial distributions "
   ]
  },
  {
   "cell_type": "markdown",
   "metadata": {},
   "source": [
    "#### In R and Z"
   ]
  },
  {
   "cell_type": "code",
   "execution_count": null,
   "metadata": {},
   "outputs": [],
   "source": [
    "fig = plt.figure(figsize=(14,6))\n",
    "ax      = fig.add_subplot(1, 2, 1)\n",
    "(_)    = h1(kge.R, bins=50, range = (0,200), color='red', stats=False, lbl='pre-sel')\n",
    "plot_histo(PlotLabels('R','Entries',''), ax)\n",
    "(_)   = h1(kges.R, bins=50, range = (0,200), color='blue',stats=False, lbl='post-sel')\n",
    "plot_histo(PlotLabels('R','Entries',''), ax)\n",
    "ax      = fig.add_subplot(1, 2, 2)\n",
    "(_)    = h1(kge.Z, bins=50, range = (0,550), color='red', stats=False, lbl='pre-sel')\n",
    "plot_histo(PlotLabels('Z','Entries',''), ax)\n",
    "(_)    = h1(kges.Z, bins=50, range = (0,550), color='blue',stats=False, lbl='post-sel')\n",
    "plot_histo(PlotLabels('Z','Entries',''), ax)\n",
    "plt.tight_layout()"
   ]
  },
  {
   "cell_type": "markdown",
   "metadata": {},
   "source": [
    "#### In X Y"
   ]
  },
  {
   "cell_type": "code",
   "execution_count": null,
   "metadata": {},
   "outputs": [],
   "source": [
    "fig = plt.figure(figsize=(14,6))\n",
    "ax      = fig.add_subplot(1, 2, 1)\n",
    "(_)    = h1(kge.X, bins=50, range = (-200,200), color='red', stats=False, lbl='pre-sel')\n",
    "plot_histo(PlotLabels('X','Entries',''), ax)\n",
    "(_)    = h1(kges.X, bins=50, range = (-200,200), color='blue',stats=False, lbl='post-sel')\n",
    "plot_histo(PlotLabels('X','Entries',''), ax)\n",
    "ax      = fig.add_subplot(1, 2, 2)\n",
    "(_)    = h1(kge.Y, bins=50, range = (-200,200), color='red', stats=False, lbl='pre-sel')\n",
    "plot_histo(PlotLabels('X','Entries',''), ax)\n",
    "(_)    = h1(kges.Y, bins=50, range = (-200,200), color='blue',stats=False, lbl='post-sel')\n",
    "plot_histo(PlotLabels('Y','Entries',''), ax)\n",
    "plt.tight_layout()"
   ]
  },
  {
   "cell_type": "markdown",
   "metadata": {},
   "source": [
    "### Charge and SiPM distributions"
   ]
  },
  {
   "cell_type": "code",
   "execution_count": null,
   "metadata": {},
   "outputs": [],
   "source": [
    "fig = plt.figure(figsize=(14,6))\n",
    "ax      = fig.add_subplot(1, 2, 1)\n",
    "(_)    = h1(kge.Q, bins=50, range = (0,800), color='red', stats=False, lbl='pre-sel')\n",
    "plot_histo(PlotLabels('Qg','Entries',''), ax)\n",
    "(_)    = h1(kges.Q, bins=50, range = (0,800), color='blue',stats=False, lbl='post-sel')\n",
    "plot_histo(PlotLabels('Qg','Entries',''), ax)\n",
    "ax      = fig.add_subplot(1, 2, 2)\n",
    "(_)    = h1(dst.Nsipm, bins=50, range = (0,50), color='red', stats=False, lbl='pre-sel')\n",
    "plot_histo(PlotLabels('Nsipm','Entries',''), ax)\n",
    "(_)    = h1(dsts.Nsipm, bins=50, range = (0,50), color='blue',stats=False, lbl='post-sel')\n",
    "plot_histo(PlotLabels('Nsipm','Entries',''), ax)\n",
    "plt.tight_layout()"
   ]
  },
  {
   "cell_type": "markdown",
   "metadata": {},
   "source": [
    "### Write DST (merged and fiducial)"
   ]
  },
  {
   "cell_type": "code",
   "execution_count": null,
   "metadata": {},
   "outputs": [],
   "source": [
    "dst.columns"
   ]
  },
  {
   "cell_type": "code",
   "execution_count": null,
   "metadata": {},
   "outputs": [],
   "source": [
    "#del dst['index']"
   ]
  },
  {
   "cell_type": "code",
   "execution_count": null,
   "metadata": {},
   "outputs": [],
   "source": [
    "if (write_filtered_dst):\n",
    "    print('writing filtered dst ', output_dst_filename)\n",
    "    kdst_write(dsts, output_dst_filename);"
   ]
  },
  {
   "cell_type": "markdown",
   "metadata": {},
   "source": [
    "## End of NB"
   ]
  },
  {
   "cell_type": "code",
   "execution_count": null,
   "metadata": {},
   "outputs": [],
   "source": []
  }
 ],
 "metadata": {
  "kernelspec": {
   "display_name": "Python 3",
   "language": "python",
   "name": "python3"
  },
  "language_info": {
   "codemirror_mode": {
    "name": "ipython",
    "version": 3
   },
   "file_extension": ".py",
   "mimetype": "text/x-python",
   "name": "python",
   "nbconvert_exporter": "python",
   "pygments_lexer": "ipython3",
   "version": "3.7.0"
  }
 },
 "nbformat": 4,
 "nbformat_minor": 2
}
