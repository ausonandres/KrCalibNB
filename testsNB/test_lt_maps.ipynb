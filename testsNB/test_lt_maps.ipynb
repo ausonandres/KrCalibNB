{
 "cells": [
  {
   "cell_type": "markdown",
   "metadata": {},
   "source": [
    "# Test LT maps"
   ]
  },
  {
   "cell_type": "markdown",
   "metadata": {},
   "source": [
    "### Author: JJGC"
   ]
  },
  {
   "cell_type": "markdown",
   "metadata": {},
   "source": [
    "### Software: KrCalib : https://github.com/nextic/KrCalib/"
   ]
  },
  {
   "cell_type": "code",
   "execution_count": 1,
   "metadata": {},
   "outputs": [
    {
     "name": "stdout",
     "output_type": "stream",
     "text": [
      "Last updated on  Sun Oct  7 15:14:02 2018\n"
     ]
    }
   ],
   "source": [
    "%load_ext autoreload\n",
    "%autoreload 2\n",
    "import os\n",
    "import time\n",
    "import datetime \n",
    "print(\"Last updated on \", time.asctime())"
   ]
  },
  {
   "cell_type": "code",
   "execution_count": 2,
   "metadata": {},
   "outputs": [
    {
     "name": "stdout",
     "output_type": "stream",
     "text": [
      "2018-10-07 15:14:03,628 | INFO : Hello world!\n"
     ]
    }
   ],
   "source": [
    "import logging\n",
    "import sys\n",
    "\n",
    "logging.basicConfig(format='%(asctime)s | %(levelname)s : %(message)s',\n",
    "                     level=logging.INFO, stream=sys.stdout)\n",
    "\n",
    "logging.info('Hello world!')\n",
    "\n"
   ]
  },
  {
   "cell_type": "code",
   "execution_count": 3,
   "metadata": {},
   "outputs": [],
   "source": [
    "from krcal.core.kr_types import KrFileName\n",
    "input_path  = f\"$IC_DATA/dst\"\n",
    "output_path = f\"$IC_DATA/ldst\"\n",
    "map_path    = f\"$IC_DATA/maps\"\n",
    "\n",
    "input_file_names  = ['dst_6284_trigger1_0000_7920.h5']\n",
    "output_file_name  = ' '\n",
    "map_file_name     = ' '\n",
    "map_file_name_ts  = ' '\n",
    "emap_file_name    = ' '\n",
    "\n",
    "\n",
    "krfn = KrFileName(input_file_names,\n",
    "                  output_file_name,\n",
    "                  map_file_name,\n",
    "                  map_file_name_ts,\n",
    "                  emap_file_name)"
   ]
  },
  {
   "cell_type": "code",
   "execution_count": 4,
   "metadata": {},
   "outputs": [],
   "source": [
    "%matplotlib inline\n",
    "import matplotlib.pyplot as plt\n",
    "\n",
    "from matplotlib.patches import Circle, Wedge, Polygon\n",
    "from matplotlib.collections import PatchCollection\n",
    "\n",
    "plt.rcParams[\"figure.figsize\"] = 10, 8\n",
    "plt.rcParams[\"font.size\"     ] = 14"
   ]
  },
  {
   "cell_type": "code",
   "execution_count": 5,
   "metadata": {},
   "outputs": [],
   "source": [
    "import seaborn as sns\n",
    "import numpy as np\n",
    "import pandas as pd\n",
    "import matplotlib\n",
    "import tables            as tb\n",
    "import random\n",
    "import glob\n",
    "import warnings\n",
    "sns.set()"
   ]
  },
  {
   "cell_type": "markdown",
   "metadata": {},
   "source": [
    "### Imports from IC"
   ]
  },
  {
   "cell_type": "code",
   "execution_count": 6,
   "metadata": {},
   "outputs": [],
   "source": [
    "from  invisible_cities.io.dst_io              import load_dsts\n",
    "from  invisible_cities.core .core_functions   import in_range\n",
    "from krcal.core.core_functions      import time_delta_from_time\n",
    "from krcal.core.core_functions      import phirad_to_deg\n",
    "from krcal.core.core_functions      import NN\n",
    "from krcal.core                     import fit_functions_ic as fitf"
   ]
  },
  {
   "cell_type": "code",
   "execution_count": 7,
   "metadata": {},
   "outputs": [],
   "source": [
    "from krcal.core.io_functions       import kdst_write\n",
    "from krcal.core.io_functions       import filenames_from_list\n",
    "from krcal.core.io_functions       import write_maps\n",
    "from krcal.core.io_functions       import read_maps\n",
    "from krcal.core.io_functions       import write_maps_ts\n",
    "from krcal.core.io_functions       import read_maps_ts"
   ]
  },
  {
   "cell_type": "code",
   "execution_count": 8,
   "metadata": {},
   "outputs": [],
   "source": [
    "from krcal.core.histo_functions    import h1, h1d, h2, h2d, plot_histo"
   ]
  },
  {
   "cell_type": "code",
   "execution_count": 9,
   "metadata": {},
   "outputs": [],
   "source": [
    "from krcal.core.analysis_functions  import kr_ranges_and_bins\n",
    "from krcal.core.analysis_functions  import fiducial_volumes\n",
    "from krcal.core.analysis_functions  import fid_eff\n",
    "from krcal.core.analysis_functions  import select_rphi_sectors\n",
    "from krcal.core.analysis_functions  import select_xy_sectors\n",
    "from krcal.core.analysis_functions  import event_map\n",
    "from krcal.core.analysis_functions  import plot_sector\n",
    "from krcal.core.analysis_functions  import plot_sectors\n",
    "from krcal.core.analysis_functions  import kr_event_selection\n",
    "from krcal.core.analysis_functions  import kr_event"
   ]
  },
  {
   "cell_type": "code",
   "execution_count": 10,
   "metadata": {},
   "outputs": [],
   "source": [
    "from krcal.core.fit_lt_functions    import fit_lifetime\n",
    "from krcal.core.fit_lt_functions    import plot_fit_lifetime_and_chi2\n",
    "from krcal.core.fit_lt_functions    import print_fit_lifetime\n",
    "from krcal.core.fit_lt_functions    import time_fcs\n",
    "from krcal.core.fit_lt_functions    import fit_fcs_in_sectors\n",
    "from krcal.core.fit_lt_functions    import fit_fcs_in_xy_bin\n",
    "from krcal.core.fit_lt_functions    import fit_map\n",
    "from krcal.core.fit_lt_functions    import fit_map_xy\n",
    "from krcal.core.fit_lt_functions    import get_time_series"
   ]
  },
  {
   "cell_type": "code",
   "execution_count": 11,
   "metadata": {},
   "outputs": [],
   "source": [
    "from krcal.core.fit_lt_histograms   import histo_fit_sectors\n",
    "from krcal.core.fit_lt_histograms   import print_fit_sectors_pars\n",
    "from krcal.core.fit_lt_histograms   import plot_fit_sectors\n",
    "from krcal.core.fit_lt_histograms   import plot_fit_xy\n",
    "from krcal.core.fit_lt_histograms   import plot_time_fcs"
   ]
  },
  {
   "cell_type": "code",
   "execution_count": 12,
   "metadata": {},
   "outputs": [],
   "source": [
    "from krcal.core.kr_types import PlotLabels, KrEvent, ASectorMap\n",
    "from krcal.core.kr_types import FitType, KrSector, MapType\n",
    "from krcal.core.kr_types import KrFileName"
   ]
  },
  {
   "cell_type": "code",
   "execution_count": 13,
   "metadata": {},
   "outputs": [],
   "source": [
    "from krcal.core.map_functions   import draw_wedges\n",
    "from krcal.core.map_functions   import define_rphi_sectors\n",
    "from krcal.core.map_functions   import rphi_sector_alpha_map\n",
    "from krcal.core.map_functions   import rphi_sector_map\n",
    "from krcal.core.map_functions   import tsmap_from_fmap\n",
    "from krcal.core.map_functions   import amap_from_tsmap\n",
    "from krcal.core.map_functions   import relative_errors\n",
    "from krcal.core.map_functions   import draw_maps\n",
    "from krcal.core.map_functions   import amap_valid_mask\n",
    "from krcal.core.map_functions   import amap_valid_fraction\n",
    "from krcal.core.map_functions   import draw_xy_maps\n",
    "from krcal.core.map_functions   import draw_xy_map\n",
    "from krcal.core.map_functions   import draw_xy_maps_ts\n",
    "from krcal.core.map_functions   import amap_average\n",
    "from krcal.core.map_functions   import amap_max\n",
    "from krcal.core.map_functions   import amap_min\n",
    "from krcal.core.map_functions   import amap_replace_nan_by_mean\n",
    "from krcal.core.map_functions   import amap_replace_nan_by_zero\n",
    "from krcal.core.map_functions   import regularize_maps\n",
    "from krcal.core.map_functions   import get_maps_from_tsmap\n",
    "from krcal.core.map_functions   import map_average"
   ]
  },
  {
   "cell_type": "code",
   "execution_count": 14,
   "metadata": {},
   "outputs": [],
   "source": [
    "from numpy import pi, sqrt"
   ]
  },
  {
   "cell_type": "code",
   "execution_count": 15,
   "metadata": {},
   "outputs": [],
   "source": [
    "from typing      import List, Tuple, Dict, Sequence, Iterable"
   ]
  },
  {
   "cell_type": "code",
   "execution_count": 16,
   "metadata": {},
   "outputs": [],
   "source": [
    "from krcal.core.kr_types import PlotLabels\n",
    "from krcal.core.kr_types import FitType\n",
    "from krcal.core          import fit_functions_ic as fitf"
   ]
  },
  {
   "cell_type": "markdown",
   "metadata": {},
   "source": [
    "### logger"
   ]
  },
  {
   "cell_type": "code",
   "execution_count": 17,
   "metadata": {},
   "outputs": [],
   "source": [
    "log = logging.getLogger()"
   ]
  },
  {
   "cell_type": "markdown",
   "metadata": {},
   "source": [
    "## Input data"
   ]
  },
  {
   "cell_type": "code",
   "execution_count": 18,
   "metadata": {},
   "outputs": [],
   "source": [
    "fn =filenames_from_list(krfn, input_path, output_path, map_path)"
   ]
  },
  {
   "cell_type": "code",
   "execution_count": 19,
   "metadata": {},
   "outputs": [
    {
     "data": {
      "text/plain": [
       "KrFileName(input_file_names=['/Users/jjgomezcadenas/Projects/ICDATA/dst/dst_6284_trigger1_0000_7920.h5'], output_file_name='/Users/jjgomezcadenas/Projects/ICDATA/ldst/ ', map_file_name='/Users/jjgomezcadenas/Projects/ICDATA/maps/ ', map_file_name_ts='/Users/jjgomezcadenas/Projects/ICDATA/maps/ ', emap_file_name='/Users/jjgomezcadenas/Projects/ICDATA/maps/ ')"
      ]
     },
     "execution_count": 19,
     "metadata": {},
     "output_type": "execute_result"
    }
   ],
   "source": [
    "fn"
   ]
  },
  {
   "cell_type": "code",
   "execution_count": 20,
   "metadata": {},
   "outputs": [
    {
     "data": {
      "text/plain": [
       "['/Users/jjgomezcadenas/Projects/ICDATA/dst/dst_6284_trigger1_0000_7920.h5']"
      ]
     },
     "execution_count": 20,
     "metadata": {},
     "output_type": "execute_result"
    }
   ],
   "source": [
    "fn.input_file_names"
   ]
  },
  {
   "cell_type": "code",
   "execution_count": null,
   "metadata": {},
   "outputs": [],
   "source": []
  },
  {
   "cell_type": "code",
   "execution_count": 21,
   "metadata": {},
   "outputs": [
    {
     "name": "stdout",
     "output_type": "stream",
     "text": [
      "Total number of events: 1583342\n"
     ]
    }
   ],
   "source": [
    "dst           = load_dsts(fn.input_file_names, \"DST\", \"Events\")\n",
    "unique_events = ~dst.event.duplicated()\n",
    "number_of_evts_full = np.count_nonzero(unique_events)\n",
    "\n",
    "print(f\"Total number of events: {number_of_evts_full}\")"
   ]
  },
  {
   "cell_type": "code",
   "execution_count": 22,
   "metadata": {},
   "outputs": [
    {
     "data": {
      "text/plain": [
       "Index(['index', 'event', 'time', 's1_peak', 's2_peak', 'nS1', 'nS2', 'S1w',\n",
       "       'S1h', 'S1e', 'S1t', 'S2w', 'S2h', 'S2e', 'S2q', 'S2t', 'Nsipm', 'DT',\n",
       "       'Z', 'Zrms', 'X', 'Y', 'R', 'Phi', 'Xrms', 'Yrms'],\n",
       "      dtype='object')"
      ]
     },
     "execution_count": 22,
     "metadata": {},
     "output_type": "execute_result"
    }
   ],
   "source": [
    "dst.columns"
   ]
  },
  {
   "cell_type": "code",
   "execution_count": 23,
   "metadata": {},
   "outputs": [],
   "source": [
    "dst_time = dst.sort_values('event')\n",
    "T       = dst_time.time.values\n",
    "DT      = time_delta_from_time(T)"
   ]
  },
  {
   "cell_type": "markdown",
   "metadata": {},
   "source": [
    "### Ranges and binning"
   ]
  },
  {
   "cell_type": "code",
   "execution_count": 24,
   "metadata": {},
   "outputs": [],
   "source": [
    "RMAX      = 200\n",
    "\n",
    "s1e_range = (2, 30)\n",
    "s2e_range = (2000, 14000)\n",
    "s2q_range = (200, 800)\n",
    "\n",
    "xy_range  = (-RMAX,  RMAX)\n",
    "z_range   = (50,  550)\n",
    "e_range = (5000, 14000)\n",
    "lt_range = (1000, 5000)\n",
    "c2_range = (0,3)\n",
    "\n",
    "krTimes, krRanges, krNbins, krBins = kr_ranges_and_bins(dst,\n",
    "                                                        xxrange   = xy_range,\n",
    "                                                        yrange    = xy_range,\n",
    "                                                        zrange    = z_range,\n",
    "                                                        s2erange  = s2e_range,\n",
    "                                                        s1erange  = s1e_range,\n",
    "                                                        s2qrange  = s2q_range,\n",
    "                                                        xnbins    = 100,\n",
    "                                                        ynbins    = 100,\n",
    "                                                        znbins    = 10,\n",
    "                                                        s2enbins  = 25,\n",
    "                                                        s1enbins  = 10,\n",
    "                                                        s2qnbins  = 25,\n",
    "                                                        tpsamples = 3600) # tsamples in seconds"
   ]
  },
  {
   "cell_type": "code",
   "execution_count": 25,
   "metadata": {},
   "outputs": [
    {
     "data": {
      "text/plain": [
       "100"
      ]
     },
     "execution_count": 25,
     "metadata": {},
     "output_type": "execute_result"
    }
   ],
   "source": [
    "krNbins.X"
   ]
  },
  {
   "cell_type": "code",
   "execution_count": 26,
   "metadata": {},
   "outputs": [
    {
     "data": {
      "text/plain": [
       "101"
      ]
     },
     "execution_count": 26,
     "metadata": {},
     "output_type": "execute_result"
    }
   ],
   "source": [
    "len(krBins.X)"
   ]
  },
  {
   "cell_type": "code",
   "execution_count": 27,
   "metadata": {},
   "outputs": [],
   "source": [
    "kge = kr_event(dst, DT, dst.S2e, dst.S2q)"
   ]
  },
  {
   "cell_type": "code",
   "execution_count": 28,
   "metadata": {},
   "outputs": [
    {
     "data": {
      "image/png": "[encoded data removed]",
      "text/plain": [
       "<Figure size 720x432 with 1 Axes>"
      ]
     },
     "metadata": {},
     "output_type": "display_data"
    }
   ],
   "source": [
    "fig = plt.figure(figsize=(10,6))\n",
    "ax      = fig.add_subplot(1, 1, 1)\n",
    "(_)    = h1(kge.DT, bins=500, range = (kge.DT[0], kge.DT[-1]), color='red', stats=False, lbl='pre-sel')"
   ]
  },
  {
   "cell_type": "markdown",
   "metadata": {},
   "source": [
    "## Tests"
   ]
  },
  {
   "cell_type": "markdown",
   "metadata": {},
   "source": [
    "#### Function: \n",
    "```\n",
    "def get_time_series(nt    : int,\n",
    "                    tlast : int,\n",
    "                    KRES  : KrEvent)->Tuple[List[float], List[np.array]]:\n",
    "```\n",
    "\n",
    "Returns a time series (ts) and a list of masks which are used to divide the event in time tranches.\n",
    "\n",
    "    - nt:    number of time tranches requested\n",
    "    - tlast: last time entry in the time-differences vector that keeps the length of the run in terms of time-differences wrt the initial time.\n",
    "    - KRES:  An object of type kr_event (a subsection of the dst)"
   ]
  },
  {
   "cell_type": "code",
   "execution_count": 29,
   "metadata": {},
   "outputs": [],
   "source": [
    "log.setLevel(logging.INFO)"
   ]
  },
  {
   "cell_type": "code",
   "execution_count": 30,
   "metadata": {},
   "outputs": [
    {
     "name": "stdout",
     "output_type": "stream",
     "text": [
      " get_time_series: t = 0.027443885803222656\n"
     ]
    }
   ],
   "source": [
    "nt = 10\n",
    "t0 = time.time()\n",
    "\n",
    "ts, masks = get_time_series(nt, DT[-1], kge)  \n",
    "t1 = time.time()\n",
    "print(f' get_time_series: t = {t1 -t0}')"
   ]
  },
  {
   "cell_type": "code",
   "execution_count": 31,
   "metadata": {},
   "outputs": [
    {
     "name": "stdout",
     "output_type": "stream",
     "text": [
      "tlast = 86880.49799990654\n",
      "ts = [4344.0, 13032.0, 21720.0, 30408.0, 39096.0, 47784.0, 56472.0, 65160.0, 73848.0, 82536.0], len(masks) = 10\n"
     ]
    }
   ],
   "source": [
    "print(f'tlast = {DT[-1]}')\n",
    "print(f'ts = {ts}, len(masks) = {len(masks)}' )"
   ]
  },
  {
   "cell_type": "code",
   "execution_count": 32,
   "metadata": {},
   "outputs": [
    {
     "name": "stdout",
     "output_type": "stream",
     "text": [
      "length of mask 0 = 1583342\n",
      "length of mask 1 = 1583342\n",
      "length of mask 2 = 1583342\n",
      "length of mask 3 = 1583342\n",
      "length of mask 4 = 1583342\n",
      "length of mask 5 = 1583342\n",
      "length of mask 6 = 1583342\n",
      "length of mask 7 = 1583342\n",
      "length of mask 8 = 1583342\n",
      "length of mask 9 = 1583342\n"
     ]
    }
   ],
   "source": [
    "lengths = [len(mask)for mask in masks]\n",
    "(_) = [print (f'length of mask {i} = {l}') for i,l in enumerate(lengths)]"
   ]
  },
  {
   "cell_type": "code",
   "execution_count": 33,
   "metadata": {},
   "outputs": [
    {
     "name": "stdout",
     "output_type": "stream",
     "text": [
      "number of non zero for mask 0 = 160564\n",
      "number of non zero for mask 1 = 159420\n",
      "number of non zero for mask 2 = 158928\n",
      "number of non zero for mask 3 = 158063\n",
      "number of non zero for mask 4 = 158039\n",
      "number of non zero for mask 5 = 157712\n",
      "number of non zero for mask 6 = 157350\n",
      "number of non zero for mask 7 = 158230\n",
      "number of non zero for mask 8 = 158153\n",
      "number of non zero for mask 9 = 156879\n"
     ]
    }
   ],
   "source": [
    "lcount = [np.count_nonzero(mask) for mask in masks]\n",
    "(_) = [print (f'number of non zero for mask {i} = {l}') for i,l in enumerate(lcount)]"
   ]
  },
  {
   "cell_type": "code",
   "execution_count": 34,
   "metadata": {},
   "outputs": [],
   "source": [
    "assert len(masks) == len(ts) == nt\n",
    "assert len(masks[0]) == len(kge.X) == len(dst)\n",
    "assert np.equal(lengths, len(dst) * np.ones(len(lengths))).all()"
   ]
  },
  {
   "cell_type": "code",
   "execution_count": 35,
   "metadata": {},
   "outputs": [
    {
     "data": {
      "text/plain": [
       "10"
      ]
     },
     "execution_count": 35,
     "metadata": {},
     "output_type": "execute_result"
    }
   ],
   "source": [
    "np.count_nonzero(lcount)"
   ]
  },
  {
   "cell_type": "code",
   "execution_count": 36,
   "metadata": {},
   "outputs": [],
   "source": [
    "assert np.count_nonzero(lcount) == nt"
   ]
  },
  {
   "cell_type": "markdown",
   "metadata": {},
   "source": [
    "### Function\n",
    "```\n",
    "def time_fcs(masks   : List[np.array],\n",
    "             kre     : KrEvent,\n",
    "             nbins_z : int,\n",
    "             nbins_e : int,\n",
    "             range_z : Tuple[float, float] = (100,550),\n",
    "             range_e : Tuple[float, float] = (8000, 12000),\n",
    "             energy  : str                 = 'S2e',\n",
    "             fit     : FitType             = FitType.profile)->FitParTS:\n",
    "    \"\"\"Fit lifetime of a time series.\n",
    "\n",
    "    kre    : kr_event (a subset of dst)\n",
    "    masks  : select the time tranches\n",
    "           : bins and ranges in z and e.\n",
    "    energy : variable to be taken as the energy (S2e or Q)\n",
    "    fit    : type of fit.\n",
    "\n",
    "    \"\"\"\n",
    "```\n",
    "The object returned by the function is:\n",
    "```\n",
    "@dataclass\n",
    "class FitParTS:             # Fit parameters Time Series\n",
    "    ts   : np.array          # contains the time series (integers expressing time differences)\n",
    "    e0   : np.array          # e0 fitted in time series\n",
    "    lt   : np.array\n",
    "    c2   : np.array\n",
    "    e0u  : np.array          # e0 error fitted in time series\n",
    "    ltu  : np.array\n",
    "```"
   ]
  },
  {
   "cell_type": "code",
   "execution_count": 37,
   "metadata": {},
   "outputs": [
    {
     "name": "stdout",
     "output_type": "stream",
     "text": [
      " time_fcs: t = 0.30054402351379395\n"
     ]
    }
   ],
   "source": [
    "t0 = time.time()\n",
    "fps = time_fcs(ts, masks, kge, \n",
    "               nbins_z = 10,\n",
    "               nbins_e = 25,\n",
    "               range_z = (50, 550),\n",
    "               range_e = (5000, 13500),\n",
    "               energy  = 'S2e',\n",
    "               fit     = FitType.profile)\n",
    "t1 = time.time()\n",
    "print(f' time_fcs: t = {t1 -t0}')"
   ]
  },
  {
   "cell_type": "code",
   "execution_count": 38,
   "metadata": {},
   "outputs": [
    {
     "data": {
      "image/png": "[encoded data removed]",
      "text/plain": [
       "<Figure size 864x432 with 3 Axes>"
      ]
     },
     "metadata": {},
     "output_type": "display_data"
    }
   ],
   "source": [
    "plot_time_fcs(fps,\n",
    "              range_chi2  = (0,10),\n",
    "              range_e0    = (8000,12000),\n",
    "              range_lt    = (2000, 4000),\n",
    "              figsize     = (12,6))"
   ]
  },
  {
   "cell_type": "code",
   "execution_count": 39,
   "metadata": {},
   "outputs": [
    {
     "name": "stdout",
     "output_type": "stream",
     "text": [
      " time_fcs: t = 0.4284651279449463\n"
     ]
    }
   ],
   "source": [
    "t0 = time.time()\n",
    "fpu = time_fcs(ts, masks, kge, \n",
    "               nbins_z = 10,\n",
    "               nbins_e = 25,\n",
    "               range_z = (50, 550),\n",
    "               range_e = (5000, 13500),\n",
    "               energy  = 'S2e',\n",
    "               fit     = FitType.unbined)\n",
    "t1 = time.time()\n",
    "print(f' time_fcs: t = {t1 -t0}')"
   ]
  },
  {
   "cell_type": "code",
   "execution_count": 40,
   "metadata": {},
   "outputs": [
    {
     "data": {
      "image/png": "[encoded data removed]",
      "text/plain": [
       "<Figure size 864x432 with 3 Axes>"
      ]
     },
     "metadata": {},
     "output_type": "display_data"
    }
   ],
   "source": [
    "plot_time_fcs(fpu,\n",
    "              range_chi2  = (0,10),\n",
    "              range_e0    = (8000,12000),\n",
    "              range_lt    = (2000, 4000),\n",
    "              figsize     = (12,6))"
   ]
  },
  {
   "cell_type": "code",
   "execution_count": 41,
   "metadata": {},
   "outputs": [
    {
     "data": {
      "text/plain": [
       "array([0.00742781, 0.00699855, 0.00760693, 0.00766067, 0.00697286,\n",
       "       0.00754073, 0.00732701, 0.00690592, 0.00686452, 0.00737349])"
      ]
     },
     "execution_count": 41,
     "metadata": {},
     "output_type": "execute_result"
    }
   ],
   "source": [
    "abs(fps.e0 - fpu.e0) / fps.e0"
   ]
  },
  {
   "cell_type": "code",
   "execution_count": 42,
   "metadata": {},
   "outputs": [
    {
     "data": {
      "text/plain": [
       "array([0.00138618, 0.00151987, 0.00272607, 0.00337806, 0.00315251,\n",
       "       0.00228243, 0.00116693, 0.00302129, 0.00459903, 0.00096315])"
      ]
     },
     "execution_count": 42,
     "metadata": {},
     "output_type": "execute_result"
    }
   ],
   "source": [
    "abs(fps.lt - fpu.lt) / fps.lt"
   ]
  },
  {
   "cell_type": "code",
   "execution_count": 43,
   "metadata": {},
   "outputs": [
    {
     "data": {
      "text/plain": [
       "True"
      ]
     },
     "execution_count": 43,
     "metadata": {},
     "output_type": "execute_result"
    }
   ],
   "source": [
    "np.allclose(fps.e0, fpu.e0, rtol=1e-02)"
   ]
  },
  {
   "cell_type": "code",
   "execution_count": 44,
   "metadata": {},
   "outputs": [
    {
     "data": {
      "text/plain": [
       "True"
      ]
     },
     "execution_count": 44,
     "metadata": {},
     "output_type": "execute_result"
    }
   ],
   "source": [
    "np.allclose(fps.lt, fpu.lt, rtol=1e-02)"
   ]
  },
  {
   "cell_type": "markdown",
   "metadata": {},
   "source": [
    "##### The bad chi2 is to be expected because we are computing the average of the lifetime, which however changes considerably as a function of the spatial coordinates. In this run the average lifetime does not change much as a function of time"
   ]
  },
  {
   "cell_type": "markdown",
   "metadata": {},
   "source": [
    "### Function (analysis_functions):\n",
    "```\n",
    "select_xy_sectors(dst        : DataFrame,\n",
    "                  time_diffs : np.array,\n",
    "                  E          : np.array,\n",
    "                  Q          : np.array,\n",
    "                  bins_x     : np.array,\n",
    "                  bins_y     : np.array)-> Dict[int, List[KrEvent]]\n",
    "```\n"
   ]
  },
  {
   "cell_type": "code",
   "execution_count": 45,
   "metadata": {},
   "outputs": [],
   "source": [
    "log.setLevel(logging.DEBUG)"
   ]
  },
  {
   "cell_type": "code",
   "execution_count": 46,
   "metadata": {},
   "outputs": [],
   "source": [
    "kTimes, kRanges, kNbins, kBins = kr_ranges_and_bins(dst,\n",
    "                                                        xxrange   = xy_range,\n",
    "                                                        yrange    = xy_range,\n",
    "                                                        zrange    = z_range,\n",
    "                                                        s2erange  = s2e_range,\n",
    "                                                        s1erange  = s1e_range,\n",
    "                                                        s2qrange  = s2q_range,\n",
    "                                                        xnbins    = 5,\n",
    "                                                        ynbins    = 5,\n",
    "                                                        znbins    = 10,\n",
    "                                                        s2enbins  = 25,\n",
    "                                                        s1enbins  = 10,\n",
    "                                                        s2qnbins  = 25,\n",
    "                                                        tpsamples = 3600) #"
   ]
  },
  {
   "cell_type": "code",
   "execution_count": 47,
   "metadata": {},
   "outputs": [
    {
     "name": "stdout",
     "output_type": "stream",
     "text": [
      " nbins_x = 5, nbins_y = 5\n",
      " bins_x =  [-200. -120.  -40.   40.  120.  200.],  bins_y = [-200. -120.  -40.   40.  120.  200.]\n"
     ]
    }
   ],
   "source": [
    "print(f' nbins_x = {kNbins.X}, nbins_y = {kNbins.Y}')\n",
    "print(f' bins_x =  {kBins.X},  bins_y = {kBins.Y}')"
   ]
  },
  {
   "cell_type": "code",
   "execution_count": 51,
   "metadata": {},
   "outputs": [
    {
     "name": "stdout",
     "output_type": "stream",
     "text": [
      "2018-10-07 18:07:00,996 | DEBUG :  function: select_xy_sectors\n",
      "2018-10-07 18:07:00,997 | DEBUG :  calling selection_mask\n",
      "2018-10-07 18:07:00,999 | DEBUG : computing selection mask for sector 0\n",
      "2018-10-07 18:07:01,033 | DEBUG : computing selection mask for sector 1\n",
      "2018-10-07 18:07:01,055 | DEBUG : computing selection mask for sector 2\n",
      "2018-10-07 18:07:01,072 | DEBUG : computing selection mask for sector 3\n",
      "2018-10-07 18:07:01,090 | DEBUG : computing selection mask for sector 4\n",
      "2018-10-07 18:07:01,109 | DEBUG :  selection mask computed, filling selections\n",
      "2018-10-07 18:07:01,110 | DEBUG :  defining kr_event for sector 0\n",
      "2018-10-07 18:07:01,251 | DEBUG :  defining kr_event for sector 1\n",
      "2018-10-07 18:07:01,446 | DEBUG :  defining kr_event for sector 2\n",
      "2018-10-07 18:07:01,644 | DEBUG :  defining kr_event for sector 3\n",
      "2018-10-07 18:07:01,826 | DEBUG :  defining kr_event for sector 4\n",
      "2018-10-07 18:07:01,956 | DEBUG :  RGES computed\n",
      " time_fcs: t = 0.9857368469238281\n"
     ]
    }
   ],
   "source": [
    "t0 = time.time()\n",
    "KRE = select_xy_sectors(dst, DT, dst.S2e.values, dst.S2q.values, kBins.X, kBins.Y)\n",
    "t1 = time.time()\n",
    "print(f' time_fcs: t = {t1 -t0}')                   "
   ]
  },
  {
   "cell_type": "code",
   "execution_count": 52,
   "metadata": {},
   "outputs": [],
   "source": [
    "neM = event_map(KRE)"
   ]
  },
  {
   "cell_type": "code",
   "execution_count": 53,
   "metadata": {},
   "outputs": [
    {
     "data": {
      "image/png": "[encoded data removed]",
      "text/plain": [
       "<Figure size 432x288 with 2 Axes>"
      ]
     },
     "metadata": {},
     "output_type": "display_data"
    }
   ],
   "source": [
    "ax = sns.heatmap(neM, square=True)"
   ]
  },
  {
   "cell_type": "code",
   "execution_count": 54,
   "metadata": {},
   "outputs": [
    {
     "data": {
      "text/html": [
       "<div>\n",
       "<style scoped>\n",
       "    .dataframe tbody tr th:only-of-type {\n",
       "        vertical-align: middle;\n",
       "    }\n",
       "\n",
       "    .dataframe tbody tr th {\n",
       "        vertical-align: top;\n",
       "    }\n",
       "\n",
       "    .dataframe thead th {\n",
       "        text-align: right;\n",
       "    }\n",
       "</style>\n",
       "<table border=\"1\" class=\"dataframe\">\n",
       "  <thead>\n",
       "    <tr style=\"text-align: right;\">\n",
       "      <th></th>\n",
       "      <th>0</th>\n",
       "      <th>1</th>\n",
       "      <th>2</th>\n",
       "      <th>3</th>\n",
       "      <th>4</th>\n",
       "    </tr>\n",
       "  </thead>\n",
       "  <tbody>\n",
       "    <tr>\n",
       "      <th>0</th>\n",
       "      <td>8386</td>\n",
       "      <td>63278</td>\n",
       "      <td>83789</td>\n",
       "      <td>63063</td>\n",
       "      <td>8199</td>\n",
       "    </tr>\n",
       "    <tr>\n",
       "      <th>1</th>\n",
       "      <td>63604</td>\n",
       "      <td>93863</td>\n",
       "      <td>92090</td>\n",
       "      <td>89802</td>\n",
       "      <td>59750</td>\n",
       "    </tr>\n",
       "    <tr>\n",
       "      <th>2</th>\n",
       "      <td>79270</td>\n",
       "      <td>86192</td>\n",
       "      <td>86909</td>\n",
       "      <td>85937</td>\n",
       "      <td>77347</td>\n",
       "    </tr>\n",
       "    <tr>\n",
       "      <th>3</th>\n",
       "      <td>57746</td>\n",
       "      <td>83659</td>\n",
       "      <td>78413</td>\n",
       "      <td>77645</td>\n",
       "      <td>56875</td>\n",
       "    </tr>\n",
       "    <tr>\n",
       "      <th>4</th>\n",
       "      <td>5877</td>\n",
       "      <td>53407</td>\n",
       "      <td>69962</td>\n",
       "      <td>51379</td>\n",
       "      <td>6724</td>\n",
       "    </tr>\n",
       "  </tbody>\n",
       "</table>\n",
       "</div>"
      ],
      "text/plain": [
       "       0      1      2      3      4\n",
       "0   8386  63278  83789  63063   8199\n",
       "1  63604  93863  92090  89802  59750\n",
       "2  79270  86192  86909  85937  77347\n",
       "3  57746  83659  78413  77645  56875\n",
       "4   5877  53407  69962  51379   6724"
      ]
     },
     "execution_count": 54,
     "metadata": {},
     "output_type": "execute_result"
    }
   ],
   "source": [
    "neM"
   ]
  },
  {
   "cell_type": "code",
   "execution_count": 55,
   "metadata": {},
   "outputs": [
    {
     "data": {
      "text/plain": [
       "0    1.022808\n",
       "1    1.064502\n",
       "2    1.024862\n",
       "3    1.015314\n",
       "4    0.874033\n",
       "dtype: float64"
      ]
     },
     "execution_count": 55,
     "metadata": {},
     "output_type": "execute_result"
    }
   ],
   "source": [
    "neM[0]/neM[4]"
   ]
  },
  {
   "cell_type": "code",
   "execution_count": 56,
   "metadata": {},
   "outputs": [
    {
     "data": {
      "text/plain": [
       "0    1.003409\n",
       "1    1.045222\n",
       "2    1.002967\n",
       "3    1.077455\n",
       "4    1.039471\n",
       "dtype: float64"
      ]
     },
     "execution_count": 56,
     "metadata": {},
     "output_type": "execute_result"
    }
   ],
   "source": [
    "neM[1]/neM[3]"
   ]
  },
  {
   "cell_type": "code",
   "execution_count": 57,
   "metadata": {},
   "outputs": [
    {
     "data": {
      "text/plain": [
       "True"
      ]
     },
     "execution_count": 57,
     "metadata": {},
     "output_type": "execute_result"
    }
   ],
   "source": [
    "l = ((neM[0]/neM[4]).values > 0.8).all() \n",
    "r = ((neM[0]/neM[4]).values < 1.1).all()\n",
    "l & r"
   ]
  },
  {
   "cell_type": "markdown",
   "metadata": {},
   "source": [
    "### Function:\n",
    "```\n",
    "def fit_fcs_in_xy_bin (xybin         : Tuple[int, int],\n",
    "                       selection_map : Dict[int, List[KrEvent]],\n",
    "                       event_map     : DataFrame,\n",
    "                       n_time_bins   : int,\n",
    "                       time_diffs    : np.array,\n",
    "                       nbins_z       : int,\n",
    "                       nbins_e       : int,\n",
    "                       range_z       : Tuple[float, float],\n",
    "                       range_e       : Tuple[float, float],\n",
    "                       energy        : str                 = 'S2e',\n",
    "                       fit           : FitType             = FitType.profile,\n",
    "                       n_min         : int                 = 100)->FitParTS:\n",
    "```"
   ]
  },
  {
   "cell_type": "code",
   "execution_count": 62,
   "metadata": {},
   "outputs": [
    {
     "name": "stdout",
     "output_type": "stream",
     "text": [
      "2018-10-07 19:10:23,799 | DEBUG : function: fit_fcs_in_xy_bin: fitting bin (2,2)\n",
      "2018-10-07 19:10:23,801 | DEBUG : function: get_time_series\n",
      "2018-10-07 19:10:23,801 | DEBUG :  number of time bins = 1, t_last = 86880.49799990654\n",
      "2018-10-07 19:10:23,802 | DEBUG : indx = [(0, 86880)]\n",
      "2018-10-07 19:10:23,803 | DEBUG : ts = [43440.0]\n",
      "2018-10-07 19:10:23,806 | DEBUG : function:time_fcs \n",
      "2018-10-07 19:10:23,807 | DEBUG :  list of kre_event has length 1\n",
      "2018-10-07 19:10:23,808 | DEBUG :  mask 0 has length 86909\n",
      "2018-10-07 19:10:23,809 | DEBUG :  mask 0 has 86908 True elements\n",
      "2018-10-07 19:10:23,810 | DEBUG :  fit_liftime \n",
      "2018-10-07 19:10:23,810 | DEBUG :  len (z) =86908, len (e) =86908 \n",
      "2018-10-07 19:10:23,811 | DEBUG :  nbins_z =25, nbins_e =50 range_z =(50, 550) range_e =(5000, 13500) \n",
      "2018-10-07 19:10:23,812 | DEBUG :  fit_liftime_profile\n",
      "2018-10-07 19:10:23,812 | DEBUG :  len (z) =86908, len (e) =86908 \n",
      "2018-10-07 19:10:23,813 | DEBUG :  nbins_z =25, range_z =(50, 550) \n",
      "2018-10-07 19:10:23,824 | DEBUG :  after profile: len (x) =25, len (y) =25 \n",
      "2018-10-07 19:10:23,826 | DEBUG :  e0z =11902.95255618249 +- 2.0320857869180746 \n",
      "2018-10-07 19:10:23,827 | DEBUG :  lt =2319.5964089816393 +- 2.910146809128911 \n",
      "2018-10-07 19:10:23,827 | DEBUG :  c2 =1.7334497462259593 \n"
     ]
    }
   ],
   "source": [
    "fps_p = fit_fcs_in_xy_bin (xybin          = (2,2),\n",
    "                         selection_map   = KRE,\n",
    "                         event_map       = neM,\n",
    "                        n_time_bins     = 1,\n",
    "                        time_diffs      = DT,\n",
    "                        nbins_z          = 25,\n",
    "                        nbins_e          = 50,\n",
    "                        range_z          =(50, 550),\n",
    "                        range_e          = (5000, 13500),\n",
    "                        energy           = 'S2e',\n",
    "                        fit              = FitType.profile,\n",
    "                        n_min            = 100)"
   ]
  },
  {
   "cell_type": "code",
   "execution_count": 63,
   "metadata": {},
   "outputs": [
    {
     "name": "stdout",
     "output_type": "stream",
     "text": [
      "2018-10-07 19:10:33,374 | DEBUG : function: fit_fcs_in_xy_bin: fitting bin (2,2)\n",
      "2018-10-07 19:10:33,375 | DEBUG : function: get_time_series\n",
      "2018-10-07 19:10:33,376 | DEBUG :  number of time bins = 1, t_last = 86880.49799990654\n",
      "2018-10-07 19:10:33,376 | DEBUG : indx = [(0, 86880)]\n",
      "2018-10-07 19:10:33,377 | DEBUG : ts = [43440.0]\n",
      "2018-10-07 19:10:33,383 | DEBUG : function:time_fcs \n",
      "2018-10-07 19:10:33,384 | DEBUG :  list of kre_event has length 1\n",
      "2018-10-07 19:10:33,385 | DEBUG :  mask 0 has length 86909\n",
      "2018-10-07 19:10:33,386 | DEBUG :  mask 0 has 86908 True elements\n",
      "2018-10-07 19:10:33,386 | DEBUG :  fit_liftime \n",
      "2018-10-07 19:10:33,387 | DEBUG :  len (z) =86908, len (e) =86908 \n",
      "2018-10-07 19:10:33,388 | DEBUG :  nbins_z =25, nbins_e =50 range_z =(50, 550) range_e =(5000, 13500) \n",
      "2018-10-07 19:10:33,389 | DEBUG :  fit_liftime_unbined\n",
      "2018-10-07 19:10:33,390 | DEBUG :  len (z) =86908, len (e) =86908 \n",
      "2018-10-07 19:10:33,390 | DEBUG :  nbins_z =25, range_z =(50, 550) \n",
      "2018-10-07 19:10:33,415 | DEBUG :  after profile: len (x) =25, len (y) =25 \n",
      "2018-10-07 19:10:33,415 | DEBUG :  e0z =11905.198548593129 +- 1.9065481272499885 \n",
      "2018-10-07 19:10:33,416 | DEBUG :  lt =2311.7939899292587 +- 2.5847143787832305 \n",
      "2018-10-07 19:10:33,416 | DEBUG :  c2 =1.1944593837333175 \n"
     ]
    }
   ],
   "source": [
    "fps_u = fit_fcs_in_xy_bin (xybin          = (2,2),\n",
    "                         selection_map   = KRE,\n",
    "                         event_map       = neM,\n",
    "                        n_time_bins     = 1,\n",
    "                        time_diffs      = DT,\n",
    "                        nbins_z          = 25,\n",
    "                        nbins_e          = 50,\n",
    "                        range_z          =(50, 550),\n",
    "                        range_e          = (5000, 13500),\n",
    "                        energy           = 'S2e',\n",
    "                        fit              = FitType.unbined,\n",
    "                        n_min            = 100)"
   ]
  },
  {
   "cell_type": "code",
   "execution_count": 67,
   "metadata": {},
   "outputs": [],
   "source": [
    "log.setLevel(logging.INFO)"
   ]
  },
  {
   "cell_type": "code",
   "execution_count": 68,
   "metadata": {},
   "outputs": [
    {
     "data": {
      "text/plain": [
       "(5, 5)"
      ]
     },
     "execution_count": 68,
     "metadata": {},
     "output_type": "execute_result"
    }
   ],
   "source": [
    "neM.shape"
   ]
  },
  {
   "cell_type": "code",
   "execution_count": 69,
   "metadata": {},
   "outputs": [],
   "source": [
    "fpmxy = fit_map_xy(selection_map = KRE,\n",
    "                   event_map     = neM,\n",
    "                   n_time_bins   = 1,\n",
    "                   time_diffs    = DT,\n",
    "                   nbins_z       = 25,\n",
    "                   nbins_e       = 50,\n",
    "                   range_z       =(50, 550),\n",
    "                   range_e       = (5000, 13500),\n",
    "                   energy        = 'S2e',\n",
    "                   fit           = FitType.profile,\n",
    "                   n_min         = 100)"
   ]
  },
  {
   "cell_type": "code",
   "execution_count": 83,
   "metadata": {},
   "outputs": [],
   "source": [
    "fumxy = fit_map_xy(selection_map = KRE,\n",
    "                   event_map     = neM,\n",
    "                   n_time_bins   = 1,\n",
    "                   time_diffs    = DT,\n",
    "                   nbins_z       = 25,\n",
    "                   nbins_e       = 50,\n",
    "                   range_z       =(50, 550),\n",
    "                   range_e       = (5000, 13500),\n",
    "                   energy        = 'S2e',\n",
    "                   fit           = FitType.unbined,\n",
    "                   n_min         = 100)"
   ]
  },
  {
   "cell_type": "code",
   "execution_count": null,
   "metadata": {},
   "outputs": [],
   "source": []
  },
  {
   "cell_type": "code",
   "execution_count": 81,
   "metadata": {},
   "outputs": [],
   "source": [
    "def get_maps_t0(fmxy):\n",
    "    pE0 = {}\n",
    "    pLT = {}\n",
    "    pC2 = {}\n",
    "    for nx in fmxy.keys():\n",
    "        pE0[nx] = [fmxy[nx][ny].e0[0] for ny in range(len(fmxy[nx]))] # notice [0] ts bin\n",
    "        pLT[nx] = [fmxy[nx][ny].lt[0] for ny in range(len(fmxy[nx]))]\n",
    "        pC2[nx] = [fmxy[nx][ny].c2[0] for ny in range(len(fmxy[nx]))]\n",
    "    \n",
    "    return pd.DataFrame.from_dict(pE0), pd.DataFrame.from_dict(pLT),pd.DataFrame.from_dict(pC2)\n",
    "\n",
    "    "
   ]
  },
  {
   "cell_type": "code",
   "execution_count": 82,
   "metadata": {},
   "outputs": [
    {
     "name": "stdout",
     "output_type": "stream",
     "text": [
      " dt = 0.0018451213836669922\n"
     ]
    }
   ],
   "source": [
    "t0 = time.time()\n",
    "mE0p, mLTp, mC2p = get_maps_t0(fpmxy)\n",
    "t1 = time.time()\n",
    "print(f' dt = {t1 -t0}')"
   ]
  },
  {
   "cell_type": "code",
   "execution_count": 85,
   "metadata": {},
   "outputs": [
    {
     "name": "stdout",
     "output_type": "stream",
     "text": [
      " dt = 0.0016939640045166016\n"
     ]
    }
   ],
   "source": [
    "t0 = time.time()\n",
    "mE0u, mLTu, mC2u = get_maps_t0(fumxy)\n",
    "t1 = time.time()\n",
    "print(f' dt = {t1 -t0}')"
   ]
  },
  {
   "cell_type": "code",
   "execution_count": 324,
   "metadata": {},
   "outputs": [
    {
     "name": "stdout",
     "output_type": "stream",
     "text": [
      " dt = 0.22681927680969238\n"
     ]
    }
   ],
   "source": [
    "t0 = time.time()\n",
    "mE0p, mLTp, mC2p = get_maps(fit= FitType.profile)\n",
    "t1 = time.time()\n",
    "print(f' dt = {t1 -t0}')"
   ]
  },
  {
   "cell_type": "code",
   "execution_count": 325,
   "metadata": {},
   "outputs": [
    {
     "name": "stdout",
     "output_type": "stream",
     "text": [
      " dt = 0.4076199531555176\n"
     ]
    }
   ],
   "source": [
    "t0 = time.time()\n",
    "mE0u, mLTu, mC2u = get_maps(fit= FitType.unbined)\n",
    "t1 = time.time()\n",
    "print(f' dt = {t1 -t0}')"
   ]
  },
  {
   "cell_type": "code",
   "execution_count": 86,
   "metadata": {},
   "outputs": [
    {
     "data": {
      "text/html": [
       "<div>\n",
       "<style scoped>\n",
       "    .dataframe tbody tr th:only-of-type {\n",
       "        vertical-align: middle;\n",
       "    }\n",
       "\n",
       "    .dataframe tbody tr th {\n",
       "        vertical-align: top;\n",
       "    }\n",
       "\n",
       "    .dataframe thead th {\n",
       "        text-align: right;\n",
       "    }\n",
       "</style>\n",
       "<table border=\"1\" class=\"dataframe\">\n",
       "  <thead>\n",
       "    <tr style=\"text-align: right;\">\n",
       "      <th></th>\n",
       "      <th>0</th>\n",
       "      <th>1</th>\n",
       "      <th>2</th>\n",
       "      <th>3</th>\n",
       "      <th>4</th>\n",
       "    </tr>\n",
       "  </thead>\n",
       "  <tbody>\n",
       "    <tr>\n",
       "      <th>0</th>\n",
       "      <td>2947.580039</td>\n",
       "      <td>2609.216030</td>\n",
       "      <td>2521.439358</td>\n",
       "      <td>2583.548853</td>\n",
       "      <td>2771.378316</td>\n",
       "    </tr>\n",
       "    <tr>\n",
       "      <th>1</th>\n",
       "      <td>2551.737036</td>\n",
       "      <td>2298.241281</td>\n",
       "      <td>2280.206687</td>\n",
       "      <td>2281.064699</td>\n",
       "      <td>2524.303344</td>\n",
       "    </tr>\n",
       "    <tr>\n",
       "      <th>2</th>\n",
       "      <td>2514.860936</td>\n",
       "      <td>2312.324635</td>\n",
       "      <td>2319.596409</td>\n",
       "      <td>2301.680776</td>\n",
       "      <td>2527.926725</td>\n",
       "    </tr>\n",
       "    <tr>\n",
       "      <th>3</th>\n",
       "      <td>2729.889193</td>\n",
       "      <td>2431.629580</td>\n",
       "      <td>2376.429515</td>\n",
       "      <td>2412.970490</td>\n",
       "      <td>2736.942339</td>\n",
       "    </tr>\n",
       "    <tr>\n",
       "      <th>4</th>\n",
       "      <td>3228.117789</td>\n",
       "      <td>3001.845473</td>\n",
       "      <td>2845.731932</td>\n",
       "      <td>3035.829600</td>\n",
       "      <td>3138.950379</td>\n",
       "    </tr>\n",
       "  </tbody>\n",
       "</table>\n",
       "</div>"
      ],
      "text/plain": [
       "             0            1            2            3            4\n",
       "0  2947.580039  2609.216030  2521.439358  2583.548853  2771.378316\n",
       "1  2551.737036  2298.241281  2280.206687  2281.064699  2524.303344\n",
       "2  2514.860936  2312.324635  2319.596409  2301.680776  2527.926725\n",
       "3  2729.889193  2431.629580  2376.429515  2412.970490  2736.942339\n",
       "4  3228.117789  3001.845473  2845.731932  3035.829600  3138.950379"
      ]
     },
     "execution_count": 86,
     "metadata": {},
     "output_type": "execute_result"
    }
   ],
   "source": [
    "mLTp"
   ]
  },
  {
   "cell_type": "code",
   "execution_count": 87,
   "metadata": {},
   "outputs": [
    {
     "data": {
      "text/html": [
       "<div>\n",
       "<style scoped>\n",
       "    .dataframe tbody tr th:only-of-type {\n",
       "        vertical-align: middle;\n",
       "    }\n",
       "\n",
       "    .dataframe tbody tr th {\n",
       "        vertical-align: top;\n",
       "    }\n",
       "\n",
       "    .dataframe thead th {\n",
       "        text-align: right;\n",
       "    }\n",
       "</style>\n",
       "<table border=\"1\" class=\"dataframe\">\n",
       "  <thead>\n",
       "    <tr style=\"text-align: right;\">\n",
       "      <th></th>\n",
       "      <th>0</th>\n",
       "      <th>1</th>\n",
       "      <th>2</th>\n",
       "      <th>3</th>\n",
       "      <th>4</th>\n",
       "    </tr>\n",
       "  </thead>\n",
       "  <tbody>\n",
       "    <tr>\n",
       "      <th>0</th>\n",
       "      <td>2980.896948</td>\n",
       "      <td>2622.260828</td>\n",
       "      <td>2532.493142</td>\n",
       "      <td>2592.045930</td>\n",
       "      <td>2784.948557</td>\n",
       "    </tr>\n",
       "    <tr>\n",
       "      <th>1</th>\n",
       "      <td>2545.316433</td>\n",
       "      <td>2288.548216</td>\n",
       "      <td>2271.258360</td>\n",
       "      <td>2270.966506</td>\n",
       "      <td>2526.152952</td>\n",
       "    </tr>\n",
       "    <tr>\n",
       "      <th>2</th>\n",
       "      <td>2513.557341</td>\n",
       "      <td>2304.150122</td>\n",
       "      <td>2311.793990</td>\n",
       "      <td>2295.235259</td>\n",
       "      <td>2524.105845</td>\n",
       "    </tr>\n",
       "    <tr>\n",
       "      <th>3</th>\n",
       "      <td>2735.627579</td>\n",
       "      <td>2426.207961</td>\n",
       "      <td>2370.529889</td>\n",
       "      <td>2408.548274</td>\n",
       "      <td>2729.494455</td>\n",
       "    </tr>\n",
       "    <tr>\n",
       "      <th>4</th>\n",
       "      <td>3277.475619</td>\n",
       "      <td>3021.021177</td>\n",
       "      <td>2855.343131</td>\n",
       "      <td>3024.519157</td>\n",
       "      <td>3141.156095</td>\n",
       "    </tr>\n",
       "  </tbody>\n",
       "</table>\n",
       "</div>"
      ],
      "text/plain": [
       "             0            1            2            3            4\n",
       "0  2980.896948  2622.260828  2532.493142  2592.045930  2784.948557\n",
       "1  2545.316433  2288.548216  2271.258360  2270.966506  2526.152952\n",
       "2  2513.557341  2304.150122  2311.793990  2295.235259  2524.105845\n",
       "3  2735.627579  2426.207961  2370.529889  2408.548274  2729.494455\n",
       "4  3277.475619  3021.021177  2855.343131  3024.519157  3141.156095"
      ]
     },
     "execution_count": 87,
     "metadata": {},
     "output_type": "execute_result"
    }
   ],
   "source": [
    "mLTu"
   ]
  },
  {
   "cell_type": "code",
   "execution_count": 88,
   "metadata": {},
   "outputs": [
    {
     "data": {
      "text/html": [
       "<div>\n",
       "<style scoped>\n",
       "    .dataframe tbody tr th:only-of-type {\n",
       "        vertical-align: middle;\n",
       "    }\n",
       "\n",
       "    .dataframe tbody tr th {\n",
       "        vertical-align: top;\n",
       "    }\n",
       "\n",
       "    .dataframe thead th {\n",
       "        text-align: right;\n",
       "    }\n",
       "</style>\n",
       "<table border=\"1\" class=\"dataframe\">\n",
       "  <thead>\n",
       "    <tr style=\"text-align: right;\">\n",
       "      <th></th>\n",
       "      <th>0</th>\n",
       "      <th>1</th>\n",
       "      <th>2</th>\n",
       "      <th>3</th>\n",
       "      <th>4</th>\n",
       "    </tr>\n",
       "  </thead>\n",
       "  <tbody>\n",
       "    <tr>\n",
       "      <th>0</th>\n",
       "      <td>0.988823</td>\n",
       "      <td>0.995025</td>\n",
       "      <td>0.995635</td>\n",
       "      <td>0.996722</td>\n",
       "      <td>0.995127</td>\n",
       "    </tr>\n",
       "    <tr>\n",
       "      <th>1</th>\n",
       "      <td>1.002523</td>\n",
       "      <td>1.004235</td>\n",
       "      <td>1.003940</td>\n",
       "      <td>1.004447</td>\n",
       "      <td>0.999268</td>\n",
       "    </tr>\n",
       "    <tr>\n",
       "      <th>2</th>\n",
       "      <td>1.000519</td>\n",
       "      <td>1.003548</td>\n",
       "      <td>1.003375</td>\n",
       "      <td>1.002808</td>\n",
       "      <td>1.001514</td>\n",
       "    </tr>\n",
       "    <tr>\n",
       "      <th>3</th>\n",
       "      <td>0.997902</td>\n",
       "      <td>1.002235</td>\n",
       "      <td>1.002489</td>\n",
       "      <td>1.001836</td>\n",
       "      <td>1.002729</td>\n",
       "    </tr>\n",
       "    <tr>\n",
       "      <th>4</th>\n",
       "      <td>0.984940</td>\n",
       "      <td>0.993653</td>\n",
       "      <td>0.996634</td>\n",
       "      <td>1.003740</td>\n",
       "      <td>0.999298</td>\n",
       "    </tr>\n",
       "  </tbody>\n",
       "</table>\n",
       "</div>"
      ],
      "text/plain": [
       "          0         1         2         3         4\n",
       "0  0.988823  0.995025  0.995635  0.996722  0.995127\n",
       "1  1.002523  1.004235  1.003940  1.004447  0.999268\n",
       "2  1.000519  1.003548  1.003375  1.002808  1.001514\n",
       "3  0.997902  1.002235  1.002489  1.001836  1.002729\n",
       "4  0.984940  0.993653  0.996634  1.003740  0.999298"
      ]
     },
     "execution_count": 88,
     "metadata": {},
     "output_type": "execute_result"
    }
   ],
   "source": [
    "mLTp / mLTu"
   ]
  },
  {
   "cell_type": "code",
   "execution_count": 93,
   "metadata": {},
   "outputs": [],
   "source": [
    "r1 = (mLTp / mLTu).values"
   ]
  },
  {
   "cell_type": "code",
   "execution_count": 104,
   "metadata": {},
   "outputs": [],
   "source": [
    "l1 = np.allclose(r1, 1, rtol=1e-01)"
   ]
  },
  {
   "cell_type": "code",
   "execution_count": 97,
   "metadata": {},
   "outputs": [],
   "source": [
    "r2 = mE0p / mE0u"
   ]
  },
  {
   "cell_type": "code",
   "execution_count": 111,
   "metadata": {},
   "outputs": [],
   "source": [
    "l2 = np.allclose(r2, 1, rtol=1e-02)"
   ]
  },
  {
   "cell_type": "code",
   "execution_count": 112,
   "metadata": {},
   "outputs": [
    {
     "data": {
      "text/plain": [
       "True"
      ]
     },
     "execution_count": 112,
     "metadata": {},
     "output_type": "execute_result"
    }
   ],
   "source": [
    "l2"
   ]
  },
  {
   "cell_type": "code",
   "execution_count": 113,
   "metadata": {},
   "outputs": [
    {
     "data": {
      "text/plain": [
       "True"
      ]
     },
     "execution_count": 113,
     "metadata": {},
     "output_type": "execute_result"
    }
   ],
   "source": [
    "l1 & l2"
   ]
  },
  {
   "cell_type": "code",
   "execution_count": null,
   "metadata": {},
   "outputs": [],
   "source": []
  },
  {
   "cell_type": "code",
   "execution_count": null,
   "metadata": {},
   "outputs": [],
   "source": []
  },
  {
   "cell_type": "code",
   "execution_count": 91,
   "metadata": {},
   "outputs": [
    {
     "data": {
      "text/html": [
       "<div>\n",
       "<style scoped>\n",
       "    .dataframe tbody tr th:only-of-type {\n",
       "        vertical-align: middle;\n",
       "    }\n",
       "\n",
       "    .dataframe tbody tr th {\n",
       "        vertical-align: top;\n",
       "    }\n",
       "\n",
       "    .dataframe thead th {\n",
       "        text-align: right;\n",
       "    }\n",
       "</style>\n",
       "<table border=\"1\" class=\"dataframe\">\n",
       "  <thead>\n",
       "    <tr style=\"text-align: right;\">\n",
       "      <th></th>\n",
       "      <th>0</th>\n",
       "      <th>1</th>\n",
       "      <th>2</th>\n",
       "      <th>3</th>\n",
       "      <th>4</th>\n",
       "    </tr>\n",
       "  </thead>\n",
       "  <tbody>\n",
       "    <tr>\n",
       "      <th>0</th>\n",
       "      <td>1.430154</td>\n",
       "      <td>1.618386</td>\n",
       "      <td>1.607175</td>\n",
       "      <td>1.660206</td>\n",
       "      <td>1.224398</td>\n",
       "    </tr>\n",
       "    <tr>\n",
       "      <th>1</th>\n",
       "      <td>1.631746</td>\n",
       "      <td>1.707023</td>\n",
       "      <td>1.659645</td>\n",
       "      <td>1.978082</td>\n",
       "      <td>1.213569</td>\n",
       "    </tr>\n",
       "    <tr>\n",
       "      <th>2</th>\n",
       "      <td>1.548231</td>\n",
       "      <td>1.855896</td>\n",
       "      <td>1.451242</td>\n",
       "      <td>2.138199</td>\n",
       "      <td>1.860764</td>\n",
       "    </tr>\n",
       "    <tr>\n",
       "      <th>3</th>\n",
       "      <td>0.997409</td>\n",
       "      <td>1.545262</td>\n",
       "      <td>0.908582</td>\n",
       "      <td>1.271424</td>\n",
       "      <td>1.338186</td>\n",
       "    </tr>\n",
       "    <tr>\n",
       "      <th>4</th>\n",
       "      <td>1.513029</td>\n",
       "      <td>1.737253</td>\n",
       "      <td>1.725130</td>\n",
       "      <td>1.506256</td>\n",
       "      <td>1.152628</td>\n",
       "    </tr>\n",
       "  </tbody>\n",
       "</table>\n",
       "</div>"
      ],
      "text/plain": [
       "          0         1         2         3         4\n",
       "0  1.430154  1.618386  1.607175  1.660206  1.224398\n",
       "1  1.631746  1.707023  1.659645  1.978082  1.213569\n",
       "2  1.548231  1.855896  1.451242  2.138199  1.860764\n",
       "3  0.997409  1.545262  0.908582  1.271424  1.338186\n",
       "4  1.513029  1.737253  1.725130  1.506256  1.152628"
      ]
     },
     "execution_count": 91,
     "metadata": {},
     "output_type": "execute_result"
    }
   ],
   "source": [
    "mC2p / mC2u"
   ]
  },
  {
   "cell_type": "code",
   "execution_count": null,
   "metadata": {},
   "outputs": [],
   "source": [
    "l = ((neM[0]/neM[4]).values > 0.8).all() \n",
    "r = ((neM[0]/neM[4]).values < 1.1).all()\n",
    "l & r"
   ]
  }
 ],
 "metadata": {
  "kernelspec": {
   "display_name": "Python 3",
   "language": "python",
   "name": "python3"
  },
  "language_info": {
   "codemirror_mode": {
    "name": "ipython",
    "version": 3
   },
   "file_extension": ".py",
   "mimetype": "text/x-python",
   "name": "python",
   "nbconvert_exporter": "python",
   "pygments_lexer": "ipython3",
   "version": "3.7.0"
  }
 },
 "nbformat": 4,
 "nbformat_minor": 2
}
