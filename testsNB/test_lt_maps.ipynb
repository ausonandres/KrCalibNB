{
 "cells": [
  {
   "cell_type": "markdown",
   "metadata": {},
   "source": [
    "# Test LT maps"
   ]
  },
  {
   "cell_type": "markdown",
   "metadata": {},
   "source": [
    "### Author: JJGC"
   ]
  },
  {
   "cell_type": "markdown",
   "metadata": {},
   "source": [
    "### Software: KrCalib : https://github.com/nextic/KrCalib/"
   ]
  },
  {
   "cell_type": "code",
   "execution_count": 1,
   "metadata": {},
   "outputs": [
    {
     "name": "stdout",
     "output_type": "stream",
     "text": [
      "Last updated on  Sun Sep  2 12:41:09 2018\n"
     ]
    }
   ],
   "source": [
    "%load_ext autoreload\n",
    "%autoreload 2\n",
    "import os\n",
    "import time\n",
    "import datetime \n",
    "print(\"Last updated on \", time.asctime())"
   ]
  },
  {
   "cell_type": "code",
   "execution_count": 124,
   "metadata": {},
   "outputs": [
    {
     "name": "stdout",
     "output_type": "stream",
     "text": [
      "2018-09-02 16:30:53,361 | INFO : Hello world!\n"
     ]
    }
   ],
   "source": [
    "import logging\n",
    "import sys\n",
    "\n",
    "logging.basicConfig(format='%(asctime)s | %(levelname)s : %(message)s',\n",
    "                     level=logging.INFO, stream=sys.stdout)\n",
    "\n",
    "logging.info('Hello world!')\n",
    "\n"
   ]
  },
  {
   "cell_type": "code",
   "execution_count": 72,
   "metadata": {},
   "outputs": [],
   "source": [
    "from krcal.core.kr_types import KrFileName\n",
    "input_path  = f\"$IC_DATA/dst\"\n",
    "output_path = f\"$IC_DATA/ldst\"\n",
    "map_path    = f\"$IC_DATA/maps\"\n",
    "\n",
    "input_file_names  = ['dst_6284_trigger1_0000_7920.h5']\n",
    "output_file_name  = ' '\n",
    "map_file_name     = ' '\n",
    "map_file_name_ts  = ' '\n",
    "emap_file_name    = ' '\n",
    "\n",
    "\n",
    "krfn = KrFileName(input_file_names,\n",
    "                  output_file_name,\n",
    "                  map_file_name,\n",
    "                  map_file_name_ts,\n",
    "                  emap_file_name)"
   ]
  },
  {
   "cell_type": "code",
   "execution_count": 73,
   "metadata": {},
   "outputs": [],
   "source": [
    "%matplotlib inline\n",
    "import matplotlib.pyplot as plt\n",
    "\n",
    "from matplotlib.patches import Circle, Wedge, Polygon\n",
    "from matplotlib.collections import PatchCollection\n",
    "\n",
    "plt.rcParams[\"figure.figsize\"] = 10, 8\n",
    "plt.rcParams[\"font.size\"     ] = 14"
   ]
  },
  {
   "cell_type": "code",
   "execution_count": 74,
   "metadata": {},
   "outputs": [],
   "source": [
    "import seaborn as sns\n",
    "import numpy as np\n",
    "import pandas as pd\n",
    "import matplotlib\n",
    "import tables            as tb\n",
    "import random\n",
    "import glob\n",
    "import warnings\n",
    "sns.set()"
   ]
  },
  {
   "cell_type": "markdown",
   "metadata": {},
   "source": [
    "### Imports from IC"
   ]
  },
  {
   "cell_type": "code",
   "execution_count": 91,
   "metadata": {},
   "outputs": [],
   "source": [
    "from  invisible_cities.io.dst_io              import load_dsts\n",
    "from  invisible_cities.core .core_functions   import in_range\n",
    "from krcal.core.core_functions      import time_delta_from_time\n",
    "from krcal.core.core_functions      import phirad_to_deg\n",
    "from krcal.core.core_functions      import NN\n",
    "from krcal.core                     import fit_functions_ic as fitf"
   ]
  },
  {
   "cell_type": "code",
   "execution_count": 76,
   "metadata": {},
   "outputs": [],
   "source": [
    "from krcal.core.io_functions       import kdst_write\n",
    "from krcal.core.io_functions       import filenames_from_list\n",
    "from krcal.core.io_functions       import write_maps\n",
    "from krcal.core.io_functions       import read_maps\n",
    "from krcal.core.io_functions       import write_maps_ts\n",
    "from krcal.core.io_functions       import read_maps_ts"
   ]
  },
  {
   "cell_type": "code",
   "execution_count": 77,
   "metadata": {},
   "outputs": [],
   "source": [
    "from krcal.core.histo_functions    import h1, h1d, h2, h2d, plot_histo"
   ]
  },
  {
   "cell_type": "code",
   "execution_count": 78,
   "metadata": {},
   "outputs": [],
   "source": [
    "from krcal.core.analysis_functions  import kr_ranges_and_bins\n",
    "from krcal.core.analysis_functions  import fiducial_volumes\n",
    "from krcal.core.analysis_functions  import fid_eff\n",
    "from krcal.core.analysis_functions  import select_rphi_sectors\n",
    "from krcal.core.analysis_functions  import select_xy_sectors\n",
    "from krcal.core.analysis_functions  import event_map\n",
    "from krcal.core.analysis_functions  import plot_sector\n",
    "from krcal.core.analysis_functions  import plot_sectors\n",
    "from krcal.core.analysis_functions  import kr_event_selection\n",
    "from krcal.core.analysis_functions  import kr_event"
   ]
  },
  {
   "cell_type": "code",
   "execution_count": 94,
   "metadata": {},
   "outputs": [],
   "source": [
    "from krcal.core.fit_lt_functions    import fit_lifetime\n",
    "from krcal.core.fit_lt_functions    import plot_fit_lifetime_and_chi2\n",
    "from krcal.core.fit_lt_functions    import print_fit_lifetime\n",
    "from krcal.core.fit_lt_functions    import time_fcs\n",
    "from krcal.core.fit_lt_functions    import fit_fcs_in_sectors\n",
    "from krcal.core.fit_lt_functions    import fit_fcs_in_xy_bin\n",
    "from krcal.core.fit_lt_functions    import fit_map\n",
    "from krcal.core.fit_lt_functions    import fit_map_xy\n",
    "from krcal.core.fit_lt_functions    import get_time_series"
   ]
  },
  {
   "cell_type": "code",
   "execution_count": 80,
   "metadata": {},
   "outputs": [],
   "source": [
    "from krcal.core.fit_lt_histograms   import histo_fit_sectors\n",
    "from krcal.core.fit_lt_histograms   import print_fit_sectors_pars\n",
    "from krcal.core.fit_lt_histograms   import plot_fit_sectors\n",
    "from krcal.core.fit_lt_histograms   import plot_fit_xy"
   ]
  },
  {
   "cell_type": "code",
   "execution_count": 81,
   "metadata": {},
   "outputs": [],
   "source": [
    "from krcal.core.kr_types import PlotLabels, KrEvent, ASectorMap\n",
    "from krcal.core.kr_types import FitType, KrSector, MapType\n",
    "from krcal.core.kr_types import KrFileName"
   ]
  },
  {
   "cell_type": "code",
   "execution_count": 82,
   "metadata": {},
   "outputs": [],
   "source": [
    "from krcal.core.map_functions   import draw_wedges\n",
    "from krcal.core.map_functions   import define_rphi_sectors\n",
    "from krcal.core.map_functions   import rphi_sector_alpha_map\n",
    "from krcal.core.map_functions   import rphi_sector_map\n",
    "from krcal.core.map_functions   import tsmap_from_fmap\n",
    "from krcal.core.map_functions   import amap_from_tsmap\n",
    "from krcal.core.map_functions   import relative_errors\n",
    "from krcal.core.map_functions   import draw_maps\n",
    "from krcal.core.map_functions   import amap_valid_mask\n",
    "from krcal.core.map_functions   import amap_valid_fraction\n",
    "from krcal.core.map_functions   import draw_xy_maps\n",
    "from krcal.core.map_functions   import draw_xy_map\n",
    "from krcal.core.map_functions   import draw_xy_maps_ts\n",
    "from krcal.core.map_functions   import amap_average\n",
    "from krcal.core.map_functions   import amap_max\n",
    "from krcal.core.map_functions   import amap_min\n",
    "from krcal.core.map_functions   import amap_replace_nan_by_mean\n",
    "from krcal.core.map_functions   import amap_replace_nan_by_zero\n",
    "from krcal.core.map_functions   import regularize_maps\n",
    "from krcal.core.map_functions   import get_maps_from_tsmap\n",
    "from krcal.core.map_functions   import map_average"
   ]
  },
  {
   "cell_type": "code",
   "execution_count": 83,
   "metadata": {},
   "outputs": [],
   "source": [
    "from numpy import pi, sqrt"
   ]
  },
  {
   "cell_type": "code",
   "execution_count": 84,
   "metadata": {},
   "outputs": [],
   "source": [
    "from typing      import List, Tuple, Dict, Sequence, Iterable"
   ]
  },
  {
   "cell_type": "code",
   "execution_count": 85,
   "metadata": {},
   "outputs": [],
   "source": [
    "from krcal.core.kr_types import PlotLabels\n",
    "from krcal.core.kr_types import FitType\n",
    "from krcal.core          import fit_functions_ic as fitf"
   ]
  },
  {
   "cell_type": "markdown",
   "metadata": {},
   "source": [
    "## Input data"
   ]
  },
  {
   "cell_type": "code",
   "execution_count": 86,
   "metadata": {},
   "outputs": [],
   "source": [
    "fn =filenames_from_list(krfn, input_path, output_path, map_path)"
   ]
  },
  {
   "cell_type": "code",
   "execution_count": 87,
   "metadata": {},
   "outputs": [
    {
     "data": {
      "text/plain": [
       "KrFileName(input_file_names=['/Users/jjgomezcadenas/Projects/ICDATA/dst/dst_6284_trigger1_0000_7920.h5'], output_file_name='/Users/jjgomezcadenas/Projects/ICDATA/ldst/ ', map_file_name='/Users/jjgomezcadenas/Projects/ICDATA/maps/ ', map_file_name_ts='/Users/jjgomezcadenas/Projects/ICDATA/maps/ ', emap_file_name='/Users/jjgomezcadenas/Projects/ICDATA/maps/ ')"
      ]
     },
     "execution_count": 87,
     "metadata": {},
     "output_type": "execute_result"
    }
   ],
   "source": [
    "fn"
   ]
  },
  {
   "cell_type": "code",
   "execution_count": 88,
   "metadata": {},
   "outputs": [
    {
     "name": "stdout",
     "output_type": "stream",
     "text": [
      "Total number of events: 1583342\n"
     ]
    }
   ],
   "source": [
    "dst           = load_dsts(fn.input_file_names, \"DST\", \"Events\")\n",
    "unique_events = ~dst.event.duplicated()\n",
    "number_of_evts_full = np.count_nonzero(unique_events)\n",
    "\n",
    "print(f\"Total number of events: {number_of_evts_full}\")"
   ]
  },
  {
   "cell_type": "code",
   "execution_count": 89,
   "metadata": {},
   "outputs": [
    {
     "data": {
      "text/plain": [
       "Index(['index', 'event', 'time', 's1_peak', 's2_peak', 'nS1', 'nS2', 'S1w',\n",
       "       'S1h', 'S1e', 'S1t', 'S2w', 'S2h', 'S2e', 'S2q', 'S2t', 'Nsipm', 'DT',\n",
       "       'Z', 'Zrms', 'X', 'Y', 'R', 'Phi', 'Xrms', 'Yrms'],\n",
       "      dtype='object')"
      ]
     },
     "execution_count": 89,
     "metadata": {},
     "output_type": "execute_result"
    }
   ],
   "source": [
    "dst.columns"
   ]
  },
  {
   "cell_type": "code",
   "execution_count": 92,
   "metadata": {},
   "outputs": [],
   "source": [
    "dst_time = dst.sort_values('event')\n",
    "T       = dst_time.time.values\n",
    "DT      = time_delta_from_time(T)"
   ]
  },
  {
   "cell_type": "markdown",
   "metadata": {},
   "source": [
    "### Ranges and binning"
   ]
  },
  {
   "cell_type": "code",
   "execution_count": 95,
   "metadata": {},
   "outputs": [],
   "source": [
    "RMAX      = 200\n",
    "\n",
    "s1e_range = (2, 30)\n",
    "s2e_range = (2000, 14000)\n",
    "s2q_range = (200, 800)\n",
    "\n",
    "xy_range  = (-RMAX,  RMAX)\n",
    "z_range   = (50,  550)\n",
    "e_range = (5000, 14000)\n",
    "lt_range = (1000, 5000)\n",
    "c2_range = (0,3)\n",
    "\n",
    "krTimes, krRanges, krNbins, krBins = kr_ranges_and_bins(dst,\n",
    "                                                        xxrange   = xy_range,\n",
    "                                                        yrange    = xy_range,\n",
    "                                                        zrange    = z_range,\n",
    "                                                        s2erange  = s2e_range,\n",
    "                                                        s1erange  = s1e_range,\n",
    "                                                        s2qrange  = s2q_range,\n",
    "                                                        xnbins    = 100,\n",
    "                                                        ynbins    = 100,\n",
    "                                                        znbins    = 10,\n",
    "                                                        s2enbins  = 25,\n",
    "                                                        s1enbins  = 10,\n",
    "                                                        s2qnbins  = 25,\n",
    "                                                        tpsamples = 3600) # tsamples in seconds"
   ]
  },
  {
   "cell_type": "code",
   "execution_count": 265,
   "metadata": {},
   "outputs": [
    {
     "data": {
      "text/plain": [
       "100"
      ]
     },
     "execution_count": 265,
     "metadata": {},
     "output_type": "execute_result"
    }
   ],
   "source": [
    "krNbins.X"
   ]
  },
  {
   "cell_type": "code",
   "execution_count": 266,
   "metadata": {},
   "outputs": [
    {
     "data": {
      "text/plain": [
       "101"
      ]
     },
     "execution_count": 266,
     "metadata": {},
     "output_type": "execute_result"
    }
   ],
   "source": [
    "len(krBins.X)"
   ]
  },
  {
   "cell_type": "code",
   "execution_count": 96,
   "metadata": {},
   "outputs": [],
   "source": [
    "kge = kr_event(dst, DT, dst.S2e, dst.S2q)"
   ]
  },
  {
   "cell_type": "code",
   "execution_count": 97,
   "metadata": {},
   "outputs": [
    {
     "data": {
      "image/png": "[encoded data removed]",
      "text/plain": [
       "<Figure size 720x432 with 1 Axes>"
      ]
     },
     "metadata": {},
     "output_type": "display_data"
    }
   ],
   "source": [
    "fig = plt.figure(figsize=(10,6))\n",
    "ax      = fig.add_subplot(1, 1, 1)\n",
    "(_)    = h1(kge.DT, bins=500, range = (kge.DT[0], kge.DT[-1]), color='red', stats=False, lbl='pre-sel')"
   ]
  },
  {
   "cell_type": "markdown",
   "metadata": {},
   "source": [
    "## Tests"
   ]
  },
  {
   "cell_type": "markdown",
   "metadata": {},
   "source": [
    "#### Function: \n",
    "```\n",
    "def get_time_series(nt    : int,\n",
    "                    tlast : int,\n",
    "                    KRES  : KrEvent)->Tuple[List[float], List[np.array]]:\n",
    "```\n",
    "\n",
    "Returns a time series (ts) and a list of masks which are used to divide the event in time tranches.\n",
    "\n",
    "    - nt:    number of time tranches requested\n",
    "    - tlast: last time entry in the time-differences vector that keeps the length of the run in terms of time-differences wrt the initial time.\n",
    "    - KRES:  An object of type kr_event (a subsection of the dst)"
   ]
  },
  {
   "cell_type": "code",
   "execution_count": 219,
   "metadata": {},
   "outputs": [],
   "source": [
    "log.setLevel(logging.INFO)"
   ]
  },
  {
   "cell_type": "code",
   "execution_count": 220,
   "metadata": {},
   "outputs": [
    {
     "name": "stdout",
     "output_type": "stream",
     "text": [
      " get_time_series: t = 0.03504014015197754\n"
     ]
    }
   ],
   "source": [
    "nt = 10\n",
    "t0 = time.time()\n",
    "\n",
    "ts, masks = get_time_series(nt, DT[-1], kge)  \n",
    "t1 = time.time()\n",
    "print(f' get_time_series: t = {t1 -t0}')"
   ]
  },
  {
   "cell_type": "code",
   "execution_count": 221,
   "metadata": {},
   "outputs": [
    {
     "name": "stdout",
     "output_type": "stream",
     "text": [
      "tlast = 86880.49799990654\n",
      "ts = [4344.0, 13032.0, 21720.0, 30408.0, 39096.0, 47784.0, 56472.0, 65160.0, 73848.0, 82536.0], len(masks) = 10\n"
     ]
    }
   ],
   "source": [
    "print(f'tlast = {DT[-1]}')\n",
    "print(f'ts = {ts}, len(masks) = {len(masks)}' )"
   ]
  },
  {
   "cell_type": "code",
   "execution_count": 222,
   "metadata": {},
   "outputs": [
    {
     "name": "stdout",
     "output_type": "stream",
     "text": [
      "length of mask 0 = 1583342\n",
      "length of mask 1 = 1583342\n",
      "length of mask 2 = 1583342\n",
      "length of mask 3 = 1583342\n",
      "length of mask 4 = 1583342\n",
      "length of mask 5 = 1583342\n",
      "length of mask 6 = 1583342\n",
      "length of mask 7 = 1583342\n",
      "length of mask 8 = 1583342\n",
      "length of mask 9 = 1583342\n"
     ]
    }
   ],
   "source": [
    "lengths = [len(mask)for mask in masks]\n",
    "(_) = [print (f'length of mask {i} = {l}') for i,l in enumerate(lengths)]"
   ]
  },
  {
   "cell_type": "code",
   "execution_count": 223,
   "metadata": {},
   "outputs": [
    {
     "name": "stdout",
     "output_type": "stream",
     "text": [
      "number of non zero for mask 0 = 160564\n",
      "number of non zero for mask 1 = 159420\n",
      "number of non zero for mask 2 = 158928\n",
      "number of non zero for mask 3 = 158063\n",
      "number of non zero for mask 4 = 158039\n",
      "number of non zero for mask 5 = 157712\n",
      "number of non zero for mask 6 = 157350\n",
      "number of non zero for mask 7 = 158230\n",
      "number of non zero for mask 8 = 158153\n",
      "number of non zero for mask 9 = 156879\n"
     ]
    }
   ],
   "source": [
    "lcount = [np.count_nonzero(mask) for mask in masks]\n",
    "(_) = [print (f'number of non zero for mask {i} = {l}') for i,l in enumerate(lcount)]"
   ]
  },
  {
   "cell_type": "code",
   "execution_count": 224,
   "metadata": {},
   "outputs": [],
   "source": [
    "assert len(masks) == len(ts) == nt\n",
    "assert len(masks[0]) == len(kge.X) == len(dst)\n",
    "assert np.equal(lengths, len(dst) * np.ones(len(lengths))).all()"
   ]
  },
  {
   "cell_type": "code",
   "execution_count": 225,
   "metadata": {},
   "outputs": [
    {
     "data": {
      "text/plain": [
       "10"
      ]
     },
     "execution_count": 225,
     "metadata": {},
     "output_type": "execute_result"
    }
   ],
   "source": [
    "np.count_nonzero(lcount)"
   ]
  },
  {
   "cell_type": "code",
   "execution_count": 226,
   "metadata": {},
   "outputs": [],
   "source": [
    "assert np.count_nonzero(lcount) == nt"
   ]
  },
  {
   "cell_type": "markdown",
   "metadata": {},
   "source": [
    "### Function\n",
    "```\n",
    "def time_fcs(masks   : List[np.array],\n",
    "             kre     : KrEvent,\n",
    "             nbins_z : int,\n",
    "             nbins_e : int,\n",
    "             range_z : Tuple[float, float] = (100,550),\n",
    "             range_e : Tuple[float, float] = (8000, 12000),\n",
    "             energy  : str                 = 'S2e',\n",
    "             fit     : FitType             = FitType.profile)->FitParTS:\n",
    "    \"\"\"Fit lifetime of a time series.\n",
    "\n",
    "    kre    : kr_event (a subset of dst)\n",
    "    masks  : select the time tranches\n",
    "           : bins and ranges in z and e.\n",
    "    energy : variable to be taken as the energy (S2e or Q)\n",
    "    fit    : type of fit.\n",
    "\n",
    "    \"\"\"\n",
    "```\n",
    "The object returned by the function is:\n",
    "```\n",
    "@dataclass\n",
    "class FitParTS:             # Fit parameters Time Series\n",
    "    ts   : np.array          # contains the time series (integers expressing time differences)\n",
    "    e0   : np.array          # e0 fitted in time series\n",
    "    lt   : np.array\n",
    "    c2   : np.array\n",
    "    e0u  : np.array          # e0 error fitted in time series\n",
    "    ltu  : np.array\n",
    "```"
   ]
  },
  {
   "cell_type": "code",
   "execution_count": 227,
   "metadata": {},
   "outputs": [
    {
     "name": "stdout",
     "output_type": "stream",
     "text": [
      " time_fcs: t = 0.2606010437011719\n"
     ]
    }
   ],
   "source": [
    "t0 = time.time()\n",
    "fps = time_fcs(ts, masks, kge, \n",
    "               nbins_z = 10,\n",
    "               nbins_e = 25,\n",
    "               range_z = (50, 550),\n",
    "               range_e = (5000, 13500),\n",
    "               energy  = 'S2e',\n",
    "               fit     = FitType.profile)\n",
    "t1 = time.time()\n",
    "print(f' time_fcs: t = {t1 -t0}')"
   ]
  },
  {
   "cell_type": "code",
   "execution_count": 237,
   "metadata": {},
   "outputs": [
    {
     "data": {
      "image/png": "[encoded data removed]",
      "text/plain": [
       "<Figure size 864x432 with 3 Axes>"
      ]
     },
     "metadata": {},
     "output_type": "display_data"
    }
   ],
   "source": [
    "fig       = plt.figure(figsize=(12,6))\n",
    "ax  = fig.add_subplot(1, 3, 1)\n",
    "(_) = plt.errorbar(ts, fps.e0, fps.e0u, fmt=\"p\")\n",
    "plt.ylim((8000,12000))\n",
    "ax  = fig.add_subplot(1, 3, 2)\n",
    "(_) =plt.errorbar(ts, fps.lt, fps.ltu, fmt=\"p\")\n",
    "plt.ylim((2000,3000))\n",
    "ax  = fig.add_subplot(1, 3, 3)\n",
    "(_) =plt.errorbar(ts, fps.c2, sqrt(fps.c2), fmt=\"p\")\n",
    "plt.ylim((0,20))\n",
    "plt.tight_layout()"
   ]
  },
  {
   "cell_type": "markdown",
   "metadata": {},
   "source": [
    "##### The bad chi2 is to be expected because we are computing the average of the lifetime, which however changes considerably as a function of the spatial coordinates. In this run the average lifetime does not change much as a function of time"
   ]
  },
  {
   "cell_type": "code",
   "execution_count": 246,
   "metadata": {},
   "outputs": [],
   "source": [
    "assert (fps.e0 > 10e+3).all()\n",
    "assert (fps.lt > 2400).all()\n",
    "assert (fps.c2 < 15).all()"
   ]
  },
  {
   "cell_type": "code",
   "execution_count": 251,
   "metadata": {},
   "outputs": [
    {
     "name": "stdout",
     "output_type": "stream",
     "text": [
      " time_fcs: t = 0.28589892387390137\n"
     ]
    }
   ],
   "source": [
    "t0 = time.time()\n",
    "fps_p = time_fcs(ts, masks, kge, \n",
    "               nbins_z = 25,\n",
    "               nbins_e = 50,\n",
    "               range_z = (50, 550),\n",
    "               range_e = (5000, 13500),\n",
    "               energy  = 'S2e',\n",
    "               fit     = FitType.profile)\n",
    "t1 = time.time()\n",
    "print(f' time_fcs: t = {t1 -t0}')"
   ]
  },
  {
   "cell_type": "code",
   "execution_count": 252,
   "metadata": {},
   "outputs": [
    {
     "data": {
      "image/png": "[encoded data removed]",
      "text/plain": [
       "<Figure size 864x432 with 3 Axes>"
      ]
     },
     "metadata": {},
     "output_type": "display_data"
    }
   ],
   "source": [
    "fps = fps_p\n",
    "fig       = plt.figure(figsize=(12,6))\n",
    "ax  = fig.add_subplot(1, 3, 1)\n",
    "(_) = plt.errorbar(ts, fps.e0, fps.e0u, fmt=\"p\")\n",
    "plt.ylim((8000,12000))\n",
    "ax  = fig.add_subplot(1, 3, 2)\n",
    "(_) =plt.errorbar(ts, fps.lt, fps.ltu, fmt=\"p\")\n",
    "plt.ylim((2000,3000))\n",
    "ax  = fig.add_subplot(1, 3, 3)\n",
    "(_) =plt.errorbar(ts, fps.c2, sqrt(fps.c2), fmt=\"p\")\n",
    "plt.ylim((0,10))\n",
    "plt.tight_layout()"
   ]
  },
  {
   "cell_type": "markdown",
   "metadata": {},
   "source": [
    "##### With more energy bins, chi2 gets better and more uniform"
   ]
  },
  {
   "cell_type": "code",
   "execution_count": 253,
   "metadata": {},
   "outputs": [
    {
     "name": "stdout",
     "output_type": "stream",
     "text": [
      " time_fcs: t = 0.44344592094421387\n"
     ]
    }
   ],
   "source": [
    "t0 = time.time()\n",
    "fps_u = time_fcs(ts, masks, kge, \n",
    "               nbins_z = 25,\n",
    "               nbins_e = 50,\n",
    "               range_z = (50, 550),\n",
    "               range_e = (5000, 13500),\n",
    "               energy  = 'S2e',\n",
    "               fit     = FitType.unbined)\n",
    "t1 = time.time()\n",
    "print(f' time_fcs: t = {t1 -t0}')"
   ]
  },
  {
   "cell_type": "code",
   "execution_count": 255,
   "metadata": {},
   "outputs": [
    {
     "data": {
      "image/png": "[encoded data removed]",
      "text/plain": [
       "<Figure size 864x432 with 3 Axes>"
      ]
     },
     "metadata": {},
     "output_type": "display_data"
    }
   ],
   "source": [
    "fps = fps_u\n",
    "fig       = plt.figure(figsize=(12,6))\n",
    "ax  = fig.add_subplot(1, 3, 1)\n",
    "(_) = plt.errorbar(ts, fps.e0, fps.e0u, fmt=\"p\")\n",
    "plt.ylim((8000,12000))\n",
    "ax  = fig.add_subplot(1, 3, 2)\n",
    "(_) =plt.errorbar(ts, fps.lt, fps.ltu, fmt=\"p\")\n",
    "plt.ylim((2000,3000))\n",
    "ax  = fig.add_subplot(1, 3, 3)\n",
    "(_) =plt.errorbar(ts, fps.c2, sqrt(fps.c2), fmt=\"p\")\n",
    "plt.ylim((0,5))\n",
    "plt.tight_layout()"
   ]
  },
  {
   "cell_type": "code",
   "execution_count": 256,
   "metadata": {},
   "outputs": [
    {
     "data": {
      "text/plain": [
       "FitParTS(ts=array([ 4344., 13032., 21720., 30408., 39096., 47784., 56472., 65160.,\n",
       "       73848., 82536.]), e0=array([10303.03553585, 10301.00938376, 10277.5470832 , 10283.55170161,\n",
       "       10272.85634357, 10277.59736015, 10279.32039274, 10260.08735939,\n",
       "       10262.0847353 , 10259.09477891]), lt=array([2565.34089645, 2563.05301594, 2617.89722862, 2592.36374517,\n",
       "       2614.27175643, 2597.45645914, 2592.57228437, 2625.6582985 ,\n",
       "       2621.3452358 , 2621.63514459]), c2=array([3.27686777, 1.38895298, 2.14799587, 2.77344831, 1.88979363,\n",
       "       2.92836975, 3.05726249, 2.98580576, 2.97434523, 3.98559566]), e0u=array([7.26439984, 7.29034381, 7.34561458, 7.37212648, 7.3509653 ,\n",
       "       7.37252105, 7.40749275, 7.40814787, 7.39864263, 7.47494508]), ltu=array([13.95123116, 13.998409  , 14.65461427, 14.45961518, 14.67771572,\n",
       "       14.53951315, 14.57919107, 14.88537556, 14.88055258, 15.0280461 ]))"
      ]
     },
     "execution_count": 256,
     "metadata": {},
     "output_type": "execute_result"
    }
   ],
   "source": [
    "fps_p"
   ]
  },
  {
   "cell_type": "code",
   "execution_count": 257,
   "metadata": {},
   "outputs": [
    {
     "data": {
      "text/plain": [
       "FitParTS(ts=array([ 4344., 13032., 21720., 30408., 39096., 47784., 56472., 65160.,\n",
       "       73848., 82536.]), e0=array([10223.47399053, 10225.22555491, 10197.06954793, 10201.25520397,\n",
       "       10197.60264716, 10196.09850765, 10199.9094054 , 10185.9608983 ,\n",
       "       10188.85960441, 10180.12995107]), lt=array([2575.05338275, 2566.5956004 , 2629.63903139, 2608.43715557,\n",
       "       2613.78814201, 2611.66025082, 2603.96118152, 2625.29798166,\n",
       "       2615.10405942, 2631.33537747]), c2=array([1.61589825, 1.01553755, 1.3858105 , 1.43465762, 1.22401269,\n",
       "       1.51340338, 1.61405324, 1.42601536, 1.53469828, 1.82510689]), e0u=array([6.84599947, 6.88051007, 6.91875244, 6.93578572, 6.93420504,\n",
       "       6.95732642, 6.9773066 , 6.94864933, 6.97590623, 7.01519004]), ltu=array([13.63011505, 13.6016214 , 14.35463965, 14.13696057, 14.21247582,\n",
       "       14.20468514, 14.18700301, 14.37173376, 14.29384813, 14.57264644]))"
      ]
     },
     "execution_count": 257,
     "metadata": {},
     "output_type": "execute_result"
    }
   ],
   "source": [
    "fps_u"
   ]
  },
  {
   "cell_type": "code",
   "execution_count": 259,
   "metadata": {},
   "outputs": [
    {
     "data": {
      "text/plain": [
       "array([0.00778224, 0.00741146, 0.00789222, 0.00806729, 0.00737955,\n",
       "       0.00799314, 0.00778546, 0.00727732, 0.00718678, 0.00775676])"
      ]
     },
     "execution_count": 259,
     "metadata": {},
     "output_type": "execute_result"
    }
   ],
   "source": [
    "abs((fps_p.e0 - fps_p.e0) / fps_u.e0)"
   ]
  },
  {
   "cell_type": "code",
   "execution_count": 261,
   "metadata": {},
   "outputs": [
    {
     "data": {
      "text/plain": [
       "True"
      ]
     },
     "execution_count": 261,
     "metadata": {},
     "output_type": "execute_result"
    }
   ],
   "source": [
    "np.allclose(fps_p.e0, fps_p.e0, rtol=0.01)"
   ]
  },
  {
   "cell_type": "code",
   "execution_count": 263,
   "metadata": {},
   "outputs": [
    {
     "data": {
      "text/plain": [
       "array([0.00377176, 0.00138027, 0.00446518, 0.00616208, 0.00018502,\n",
       "       0.00543861, 0.00437368, 0.00013725, 0.00238659, 0.00368643])"
      ]
     },
     "execution_count": 263,
     "metadata": {},
     "output_type": "execute_result"
    }
   ],
   "source": [
    "abs((fps_p.lt - fps_u.lt) / fps_u.lt)"
   ]
  },
  {
   "cell_type": "code",
   "execution_count": 264,
   "metadata": {},
   "outputs": [
    {
     "data": {
      "text/plain": [
       "True"
      ]
     },
     "execution_count": 264,
     "metadata": {},
     "output_type": "execute_result"
    }
   ],
   "source": [
    "np.allclose(fps_p.lt, fps_p.lt, rtol=0.01)"
   ]
  },
  {
   "cell_type": "markdown",
   "metadata": {},
   "source": [
    "### Function (analysis_functions):\n",
    "```\n",
    "select_xy_sectors(dst        : DataFrame,\n",
    "                  time_diffs : np.array,\n",
    "                  E          : np.array,\n",
    "                  Q          : np.array,\n",
    "                  bins_x     : np.array,\n",
    "                  bins_y     : np.array)-> Dict[int, List[KrEvent]]\n",
    "```\n"
   ]
  },
  {
   "cell_type": "code",
   "execution_count": 267,
   "metadata": {},
   "outputs": [],
   "source": [
    "log.setLevel(logging.DEBUG)"
   ]
  },
  {
   "cell_type": "code",
   "execution_count": 268,
   "metadata": {},
   "outputs": [],
   "source": [
    "kTimes, kRanges, kNbins, kBins = kr_ranges_and_bins(dst,\n",
    "                                                        xxrange   = xy_range,\n",
    "                                                        yrange    = xy_range,\n",
    "                                                        zrange    = z_range,\n",
    "                                                        s2erange  = s2e_range,\n",
    "                                                        s1erange  = s1e_range,\n",
    "                                                        s2qrange  = s2q_range,\n",
    "                                                        xnbins    = 5,\n",
    "                                                        ynbins    = 5,\n",
    "                                                        znbins    = 10,\n",
    "                                                        s2enbins  = 25,\n",
    "                                                        s1enbins  = 10,\n",
    "                                                        s2qnbins  = 25,\n",
    "                                                        tpsamples = 3600) #"
   ]
  },
  {
   "cell_type": "code",
   "execution_count": 270,
   "metadata": {},
   "outputs": [
    {
     "name": "stdout",
     "output_type": "stream",
     "text": [
      " nbins_x = 5, nbins_y = 5\n",
      " bins_x =  [-200. -120.  -40.   40.  120.  200.],  bins_y = [-200. -120.  -40.   40.  120.  200.]\n"
     ]
    }
   ],
   "source": [
    "print(f' nbins_x = {kNbins.X}, nbins_y = {kNbins.Y}')\n",
    "print(f' bins_x =  {kBins.X},  bins_y = {kBins.Y}')"
   ]
  },
  {
   "cell_type": "code",
   "execution_count": 271,
   "metadata": {},
   "outputs": [
    {
     "name": "stdout",
     "output_type": "stream",
     "text": [
      "2018-09-02 21:26:56,435 | DEBUG :  function: select_xy_sectors\n",
      "2018-09-02 21:26:56,436 | DEBUG :  calling selection_mask\n",
      "2018-09-02 21:26:56,437 | DEBUG : computing selection mask for sector 0\n",
      "2018-09-02 21:26:56,455 | DEBUG : computing selection mask for sector 1\n",
      "2018-09-02 21:26:56,472 | DEBUG : computing selection mask for sector 2\n",
      "2018-09-02 21:26:56,491 | DEBUG : computing selection mask for sector 3\n",
      "2018-09-02 21:26:56,510 | DEBUG : computing selection mask for sector 4\n",
      "2018-09-02 21:26:56,534 | DEBUG :  selection mask computed, filling selections\n",
      "2018-09-02 21:26:56,535 | DEBUG :  defining kr_event for sector 0\n",
      "2018-09-02 21:26:56,677 | DEBUG :  defining kr_event for sector 1\n",
      "2018-09-02 21:26:56,848 | DEBUG :  defining kr_event for sector 2\n",
      "2018-09-02 21:26:57,022 | DEBUG :  defining kr_event for sector 3\n",
      "2018-09-02 21:26:57,187 | DEBUG :  defining kr_event for sector 4\n",
      "2018-09-02 21:26:57,311 | DEBUG :  RGES computed\n",
      " time_fcs: t = 0.8876101970672607\n"
     ]
    }
   ],
   "source": [
    "t0 = time.time()\n",
    "KRE = select_xy_sectors(dst, DT, dst.S2e.values, dst.S2q.values, kBins.X, kBins.Y)\n",
    "t1 = time.time()\n",
    "print(f' time_fcs: t = {t1 -t0}')                   "
   ]
  },
  {
   "cell_type": "code",
   "execution_count": 273,
   "metadata": {},
   "outputs": [],
   "source": [
    "neM = event_map(KRE)"
   ]
  },
  {
   "cell_type": "code",
   "execution_count": 274,
   "metadata": {},
   "outputs": [
    {
     "data": {
      "image/png": "[encoded data removed]",
      "text/plain": [
       "<Figure size 720x576 with 2 Axes>"
      ]
     },
     "metadata": {},
     "output_type": "display_data"
    }
   ],
   "source": [
    "ax = sns.heatmap(neM, square=True)"
   ]
  },
  {
   "cell_type": "code",
   "execution_count": 275,
   "metadata": {},
   "outputs": [
    {
     "data": {
      "text/html": [
       "<div>\n",
       "<style scoped>\n",
       "    .dataframe tbody tr th:only-of-type {\n",
       "        vertical-align: middle;\n",
       "    }\n",
       "\n",
       "    .dataframe tbody tr th {\n",
       "        vertical-align: top;\n",
       "    }\n",
       "\n",
       "    .dataframe thead th {\n",
       "        text-align: right;\n",
       "    }\n",
       "</style>\n",
       "<table border=\"1\" class=\"dataframe\">\n",
       "  <thead>\n",
       "    <tr style=\"text-align: right;\">\n",
       "      <th></th>\n",
       "      <th>0</th>\n",
       "      <th>1</th>\n",
       "      <th>2</th>\n",
       "      <th>3</th>\n",
       "      <th>4</th>\n",
       "    </tr>\n",
       "  </thead>\n",
       "  <tbody>\n",
       "    <tr>\n",
       "      <th>0</th>\n",
       "      <td>8386</td>\n",
       "      <td>63278</td>\n",
       "      <td>83789</td>\n",
       "      <td>63063</td>\n",
       "      <td>8199</td>\n",
       "    </tr>\n",
       "    <tr>\n",
       "      <th>1</th>\n",
       "      <td>63604</td>\n",
       "      <td>93863</td>\n",
       "      <td>92090</td>\n",
       "      <td>89802</td>\n",
       "      <td>59750</td>\n",
       "    </tr>\n",
       "    <tr>\n",
       "      <th>2</th>\n",
       "      <td>79270</td>\n",
       "      <td>86192</td>\n",
       "      <td>86909</td>\n",
       "      <td>85937</td>\n",
       "      <td>77347</td>\n",
       "    </tr>\n",
       "    <tr>\n",
       "      <th>3</th>\n",
       "      <td>57746</td>\n",
       "      <td>83659</td>\n",
       "      <td>78413</td>\n",
       "      <td>77645</td>\n",
       "      <td>56875</td>\n",
       "    </tr>\n",
       "    <tr>\n",
       "      <th>4</th>\n",
       "      <td>5877</td>\n",
       "      <td>53407</td>\n",
       "      <td>69962</td>\n",
       "      <td>51379</td>\n",
       "      <td>6724</td>\n",
       "    </tr>\n",
       "  </tbody>\n",
       "</table>\n",
       "</div>"
      ],
      "text/plain": [
       "       0      1      2      3      4\n",
       "0   8386  63278  83789  63063   8199\n",
       "1  63604  93863  92090  89802  59750\n",
       "2  79270  86192  86909  85937  77347\n",
       "3  57746  83659  78413  77645  56875\n",
       "4   5877  53407  69962  51379   6724"
      ]
     },
     "execution_count": 275,
     "metadata": {},
     "output_type": "execute_result"
    }
   ],
   "source": [
    "neM"
   ]
  },
  {
   "cell_type": "code",
   "execution_count": 276,
   "metadata": {},
   "outputs": [
    {
     "data": {
      "text/plain": [
       "0    1.022808\n",
       "1    1.064502\n",
       "2    1.024862\n",
       "3    1.015314\n",
       "4    0.874033\n",
       "dtype: float64"
      ]
     },
     "execution_count": 276,
     "metadata": {},
     "output_type": "execute_result"
    }
   ],
   "source": [
    "neM[0]/neM[4]"
   ]
  },
  {
   "cell_type": "code",
   "execution_count": 277,
   "metadata": {},
   "outputs": [
    {
     "data": {
      "text/plain": [
       "0    1.003409\n",
       "1    1.045222\n",
       "2    1.002967\n",
       "3    1.077455\n",
       "4    1.039471\n",
       "dtype: float64"
      ]
     },
     "execution_count": 277,
     "metadata": {},
     "output_type": "execute_result"
    }
   ],
   "source": [
    "neM[1]/neM[3]"
   ]
  },
  {
   "cell_type": "code",
   "execution_count": 287,
   "metadata": {},
   "outputs": [
    {
     "data": {
      "text/plain": [
       "True"
      ]
     },
     "execution_count": 287,
     "metadata": {},
     "output_type": "execute_result"
    }
   ],
   "source": [
    "l = ((neM[0]/neM[4]).values > 0.8).all() \n",
    "r = ((neM[0]/neM[4]).values < 1.1).all()\n",
    "l & r"
   ]
  },
  {
   "cell_type": "markdown",
   "metadata": {},
   "source": [
    "### Function:\n",
    "```\n",
    "def fit_fcs_in_xy_bin (xybin         : Tuple[int, int],\n",
    "                       selection_map : Dict[int, List[KrEvent]],\n",
    "                       event_map     : DataFrame,\n",
    "                       n_time_bins   : int,\n",
    "                       time_diffs    : np.array,\n",
    "                       nbins_z       : int,\n",
    "                       nbins_e       : int,\n",
    "                       range_z       : Tuple[float, float],\n",
    "                       range_e       : Tuple[float, float],\n",
    "                       energy        : str                 = 'S2e',\n",
    "                       fit           : FitType             = FitType.profile,\n",
    "                       n_min         : int                 = 100)->FitParTS:\n",
    "```"
   ]
  },
  {
   "cell_type": "code",
   "execution_count": 295,
   "metadata": {},
   "outputs": [
    {
     "name": "stdout",
     "output_type": "stream",
     "text": [
      "2018-09-02 22:11:06,258 | DEBUG : function: fit_fcs_in_xy_bin\n",
      "2018-09-02 22:11:06,259 | DEBUG : selection map has 5 bins in x 5 bins in y\n",
      "2018-09-02 22:11:06,260 | DEBUG : function: get_time_series\n",
      "2018-09-02 22:11:06,260 | DEBUG :  number of time bins = 1, t_last = 86880.49799990654\n",
      "2018-09-02 22:11:06,261 | DEBUG : indx = [(0, 86880)]\n",
      "2018-09-02 22:11:06,261 | DEBUG : ts = [43440.0]\n",
      "2018-09-02 22:11:06,263 | DEBUG : fitting bin (2,2) with 86909 events\n",
      "2018-09-02 22:11:06,267 | DEBUG : function:time_fcs \n",
      "2018-09-02 22:11:06,268 | DEBUG :  list of kre_event has length 1\n",
      "2018-09-02 22:11:06,268 | DEBUG :  mask 0 has length 86909\n",
      "2018-09-02 22:11:06,269 | DEBUG :  mask 0 has 86908 True elements\n",
      "2018-09-02 22:11:06,270 | DEBUG :  fit_liftime \n",
      "2018-09-02 22:11:06,271 | DEBUG :  len (z) =86908, len (e) =86908 \n",
      "2018-09-02 22:11:06,271 | DEBUG :  nbins_z =25, nbins_e =50 range_z =(50, 550) range_e =(5000, 13500) \n",
      "2018-09-02 22:11:06,272 | DEBUG :  fit_liftime_profile\n",
      "2018-09-02 22:11:06,273 | DEBUG :  len (z) =86908, len (e) =86908 \n",
      "2018-09-02 22:11:06,273 | DEBUG :  nbins_z =25, range_z =(50, 550) \n",
      "2018-09-02 22:11:06,285 | DEBUG :  after profile: len (x) =25, len (y) =25 \n",
      "2018-09-02 22:11:06,286 | DEBUG :  e0z =11902.95255618249 +- 2.0320857869180746 \n",
      "2018-09-02 22:11:06,287 | DEBUG :  lt =2319.5964089816393 +- 2.910146809128911 \n",
      "2018-09-02 22:11:06,287 | DEBUG :  c2 =1.7334497462259593 \n"
     ]
    }
   ],
   "source": [
    "fps_p = fit_fcs_in_xy_bin (xybin          = (2,2),\n",
    "                         selection_map   = KRE,\n",
    "                         event_map       = neM,\n",
    "                        n_time_bins     = 1,\n",
    "                        time_diffs      = DT,\n",
    "                        nbins_z          = 25,\n",
    "                        nbins_e          = 50,\n",
    "                        range_z          =(50, 550),\n",
    "                        range_e          = (5000, 13500),\n",
    "                        energy           = 'S2e',\n",
    "                        fit              = FitType.profile,\n",
    "                        n_min            = 100)"
   ]
  },
  {
   "cell_type": "code",
   "execution_count": 297,
   "metadata": {},
   "outputs": [
    {
     "name": "stdout",
     "output_type": "stream",
     "text": [
      "2018-09-02 22:14:04,896 | DEBUG : function: fit_fcs_in_xy_bin\n",
      "2018-09-02 22:14:04,897 | DEBUG : selection map has 5 bins in x 5 bins in y\n",
      "2018-09-02 22:14:04,897 | DEBUG : function: get_time_series\n",
      "2018-09-02 22:14:04,898 | DEBUG :  number of time bins = 1, t_last = 86880.49799990654\n",
      "2018-09-02 22:14:04,899 | DEBUG : indx = [(0, 86880)]\n",
      "2018-09-02 22:14:04,900 | DEBUG : ts = [43440.0]\n",
      "2018-09-02 22:14:04,901 | DEBUG : fitting bin (2,2) with 86909 events\n",
      "2018-09-02 22:14:04,904 | DEBUG : function:time_fcs \n",
      "2018-09-02 22:14:04,905 | DEBUG :  list of kre_event has length 1\n",
      "2018-09-02 22:14:04,906 | DEBUG :  mask 0 has length 86909\n",
      "2018-09-02 22:14:04,906 | DEBUG :  mask 0 has 86908 True elements\n",
      "2018-09-02 22:14:04,906 | DEBUG :  fit_liftime \n",
      "2018-09-02 22:14:04,907 | DEBUG :  len (z) =86908, len (e) =86908 \n",
      "2018-09-02 22:14:04,908 | DEBUG :  nbins_z =25, nbins_e =50 range_z =(50, 550) range_e =(5000, 13500) \n",
      "2018-09-02 22:14:04,909 | DEBUG :  fit_liftime_unbined\n",
      "2018-09-02 22:14:04,910 | DEBUG :  len (z) =86908, len (e) =86908 \n",
      "2018-09-02 22:14:04,910 | DEBUG :  nbins_z =25, range_z =(50, 550) \n",
      "2018-09-02 22:14:04,936 | DEBUG :  after profile: len (x) =25, len (y) =25 \n",
      "2018-09-02 22:14:04,937 | DEBUG :  e0z =11905.198548593129 +- 1.906548127249998 \n",
      "2018-09-02 22:14:04,937 | DEBUG :  lt =2311.7939899292587 +- 2.5847143787832443 \n",
      "2018-09-02 22:14:04,938 | DEBUG :  c2 =1.1944593837333175 \n"
     ]
    }
   ],
   "source": [
    "fps_u = fit_fcs_in_xy_bin (xybin          = (2,2),\n",
    "                         selection_map   = KRE,\n",
    "                         event_map       = neM,\n",
    "                        n_time_bins     = 1,\n",
    "                        time_diffs      = DT,\n",
    "                        nbins_z          = 25,\n",
    "                        nbins_e          = 50,\n",
    "                        range_z          =(50, 550),\n",
    "                        range_e          = (5000, 13500),\n",
    "                        energy           = 'S2e',\n",
    "                        fit              = FitType.unbined,\n",
    "                        n_min            = 100)"
   ]
  },
  {
   "cell_type": "code",
   "execution_count": 298,
   "metadata": {},
   "outputs": [],
   "source": [
    "log.setLevel(logging.INFO)"
   ]
  },
  {
   "cell_type": "code",
   "execution_count": 299,
   "metadata": {},
   "outputs": [
    {
     "data": {
      "text/plain": [
       "(5, 5)"
      ]
     },
     "execution_count": 299,
     "metadata": {},
     "output_type": "execute_result"
    }
   ],
   "source": [
    "neM.shape"
   ]
  },
  {
   "cell_type": "code",
   "execution_count": 323,
   "metadata": {},
   "outputs": [],
   "source": [
    "def get_maps(fit= FitType.profile):\n",
    "    pFP = {}\n",
    "    \n",
    "    for nx in range(neM.shape[0]):\n",
    "        pFPL =[fit_fcs_in_xy_bin (xybin          = (nx,ny),\n",
    "                                 selection_map   = KRE,\n",
    "                                 event_map       = neM,\n",
    "                                 n_time_bins     = 1,\n",
    "                                 time_diffs      = DT,\n",
    "                                 nbins_z         = 25,\n",
    "                                 nbins_e         = 50,\n",
    "                                 range_z         =(50, 550),\n",
    "                                 range_e         = (5000, 13500),\n",
    "                                energy           = 'S2e',\n",
    "                                  fit            = fit,\n",
    "                                n_min            = 100) for ny in range(neM.shape[1])]\n",
    "        pFP[nx] = pFPL \n",
    "    \n",
    "    pE0 = {}\n",
    "    pLT = {}\n",
    "    pC2 = {}\n",
    "    for nx in range(neM.shape[0]):\n",
    "        pE0L = [pFP[nx][ny].e0[0] for ny in range(neM.shape[1])] # notice [0] ts bin\n",
    "        pLTL = [pFP[nx][ny].lt[0] for ny in range(neM.shape[1])]\n",
    "        pC2L = [pFP[nx][ny].c2[0] for ny in range(neM.shape[1])]\n",
    "        pE0[nx] = pE0L\n",
    "        pLT[nx] = pLTL\n",
    "        pC2[nx] = pC2L\n",
    "    \n",
    "    return pd.DataFrame.from_dict(pE0), pd.DataFrame.from_dict(pLT),pd.DataFrame.from_dict(pC2)\n",
    "\n"
   ]
  },
  {
   "cell_type": "code",
   "execution_count": 324,
   "metadata": {},
   "outputs": [
    {
     "name": "stdout",
     "output_type": "stream",
     "text": [
      " dt = 0.22681927680969238\n"
     ]
    }
   ],
   "source": [
    "t0 = time.time()\n",
    "mE0p, mLTp, mC2p = get_maps(fit= FitType.profile)\n",
    "t1 = time.time()\n",
    "print(f' dt = {t1 -t0}')"
   ]
  },
  {
   "cell_type": "code",
   "execution_count": 325,
   "metadata": {},
   "outputs": [
    {
     "name": "stdout",
     "output_type": "stream",
     "text": [
      " dt = 0.4076199531555176\n"
     ]
    }
   ],
   "source": [
    "t0 = time.time()\n",
    "mE0u, mLTu, mC2u = get_maps(fit= FitType.unbined)\n",
    "t1 = time.time()\n",
    "print(f' dt = {t1 -t0}')"
   ]
  },
  {
   "cell_type": "code",
   "execution_count": 326,
   "metadata": {},
   "outputs": [
    {
     "data": {
      "text/html": [
       "<div>\n",
       "<style scoped>\n",
       "    .dataframe tbody tr th:only-of-type {\n",
       "        vertical-align: middle;\n",
       "    }\n",
       "\n",
       "    .dataframe tbody tr th {\n",
       "        vertical-align: top;\n",
       "    }\n",
       "\n",
       "    .dataframe thead th {\n",
       "        text-align: right;\n",
       "    }\n",
       "</style>\n",
       "<table border=\"1\" class=\"dataframe\">\n",
       "  <thead>\n",
       "    <tr style=\"text-align: right;\">\n",
       "      <th></th>\n",
       "      <th>0</th>\n",
       "      <th>1</th>\n",
       "      <th>2</th>\n",
       "      <th>3</th>\n",
       "      <th>4</th>\n",
       "    </tr>\n",
       "  </thead>\n",
       "  <tbody>\n",
       "    <tr>\n",
       "      <th>0</th>\n",
       "      <td>2947.580039</td>\n",
       "      <td>2609.216030</td>\n",
       "      <td>2521.439358</td>\n",
       "      <td>2583.548853</td>\n",
       "      <td>2771.378316</td>\n",
       "    </tr>\n",
       "    <tr>\n",
       "      <th>1</th>\n",
       "      <td>2551.737036</td>\n",
       "      <td>2298.241281</td>\n",
       "      <td>2280.206687</td>\n",
       "      <td>2281.064699</td>\n",
       "      <td>2524.303344</td>\n",
       "    </tr>\n",
       "    <tr>\n",
       "      <th>2</th>\n",
       "      <td>2514.860936</td>\n",
       "      <td>2312.324635</td>\n",
       "      <td>2319.596409</td>\n",
       "      <td>2301.680776</td>\n",
       "      <td>2527.926725</td>\n",
       "    </tr>\n",
       "    <tr>\n",
       "      <th>3</th>\n",
       "      <td>2729.889193</td>\n",
       "      <td>2431.629580</td>\n",
       "      <td>2376.429515</td>\n",
       "      <td>2412.970490</td>\n",
       "      <td>2736.942339</td>\n",
       "    </tr>\n",
       "    <tr>\n",
       "      <th>4</th>\n",
       "      <td>3228.117789</td>\n",
       "      <td>3001.845473</td>\n",
       "      <td>2845.731932</td>\n",
       "      <td>3035.829600</td>\n",
       "      <td>3138.950379</td>\n",
       "    </tr>\n",
       "  </tbody>\n",
       "</table>\n",
       "</div>"
      ],
      "text/plain": [
       "             0            1            2            3            4\n",
       "0  2947.580039  2609.216030  2521.439358  2583.548853  2771.378316\n",
       "1  2551.737036  2298.241281  2280.206687  2281.064699  2524.303344\n",
       "2  2514.860936  2312.324635  2319.596409  2301.680776  2527.926725\n",
       "3  2729.889193  2431.629580  2376.429515  2412.970490  2736.942339\n",
       "4  3228.117789  3001.845473  2845.731932  3035.829600  3138.950379"
      ]
     },
     "execution_count": 326,
     "metadata": {},
     "output_type": "execute_result"
    }
   ],
   "source": [
    "mLTp"
   ]
  },
  {
   "cell_type": "code",
   "execution_count": 327,
   "metadata": {},
   "outputs": [
    {
     "data": {
      "text/html": [
       "<div>\n",
       "<style scoped>\n",
       "    .dataframe tbody tr th:only-of-type {\n",
       "        vertical-align: middle;\n",
       "    }\n",
       "\n",
       "    .dataframe tbody tr th {\n",
       "        vertical-align: top;\n",
       "    }\n",
       "\n",
       "    .dataframe thead th {\n",
       "        text-align: right;\n",
       "    }\n",
       "</style>\n",
       "<table border=\"1\" class=\"dataframe\">\n",
       "  <thead>\n",
       "    <tr style=\"text-align: right;\">\n",
       "      <th></th>\n",
       "      <th>0</th>\n",
       "      <th>1</th>\n",
       "      <th>2</th>\n",
       "      <th>3</th>\n",
       "      <th>4</th>\n",
       "    </tr>\n",
       "  </thead>\n",
       "  <tbody>\n",
       "    <tr>\n",
       "      <th>0</th>\n",
       "      <td>2980.896948</td>\n",
       "      <td>2622.260828</td>\n",
       "      <td>2532.493142</td>\n",
       "      <td>2592.045930</td>\n",
       "      <td>2784.948557</td>\n",
       "    </tr>\n",
       "    <tr>\n",
       "      <th>1</th>\n",
       "      <td>2545.316433</td>\n",
       "      <td>2288.548216</td>\n",
       "      <td>2271.258360</td>\n",
       "      <td>2270.966506</td>\n",
       "      <td>2526.152952</td>\n",
       "    </tr>\n",
       "    <tr>\n",
       "      <th>2</th>\n",
       "      <td>2513.557341</td>\n",
       "      <td>2304.150122</td>\n",
       "      <td>2311.793990</td>\n",
       "      <td>2295.235259</td>\n",
       "      <td>2524.105845</td>\n",
       "    </tr>\n",
       "    <tr>\n",
       "      <th>3</th>\n",
       "      <td>2735.627579</td>\n",
       "      <td>2426.207961</td>\n",
       "      <td>2370.529889</td>\n",
       "      <td>2408.548274</td>\n",
       "      <td>2729.494455</td>\n",
       "    </tr>\n",
       "    <tr>\n",
       "      <th>4</th>\n",
       "      <td>3277.475619</td>\n",
       "      <td>3021.021177</td>\n",
       "      <td>2855.343131</td>\n",
       "      <td>3024.519157</td>\n",
       "      <td>3141.156095</td>\n",
       "    </tr>\n",
       "  </tbody>\n",
       "</table>\n",
       "</div>"
      ],
      "text/plain": [
       "             0            1            2            3            4\n",
       "0  2980.896948  2622.260828  2532.493142  2592.045930  2784.948557\n",
       "1  2545.316433  2288.548216  2271.258360  2270.966506  2526.152952\n",
       "2  2513.557341  2304.150122  2311.793990  2295.235259  2524.105845\n",
       "3  2735.627579  2426.207961  2370.529889  2408.548274  2729.494455\n",
       "4  3277.475619  3021.021177  2855.343131  3024.519157  3141.156095"
      ]
     },
     "execution_count": 327,
     "metadata": {},
     "output_type": "execute_result"
    }
   ],
   "source": [
    "mLTu"
   ]
  },
  {
   "cell_type": "code",
   "execution_count": 328,
   "metadata": {},
   "outputs": [
    {
     "data": {
      "text/html": [
       "<div>\n",
       "<style scoped>\n",
       "    .dataframe tbody tr th:only-of-type {\n",
       "        vertical-align: middle;\n",
       "    }\n",
       "\n",
       "    .dataframe tbody tr th {\n",
       "        vertical-align: top;\n",
       "    }\n",
       "\n",
       "    .dataframe thead th {\n",
       "        text-align: right;\n",
       "    }\n",
       "</style>\n",
       "<table border=\"1\" class=\"dataframe\">\n",
       "  <thead>\n",
       "    <tr style=\"text-align: right;\">\n",
       "      <th></th>\n",
       "      <th>0</th>\n",
       "      <th>1</th>\n",
       "      <th>2</th>\n",
       "      <th>3</th>\n",
       "      <th>4</th>\n",
       "    </tr>\n",
       "  </thead>\n",
       "  <tbody>\n",
       "    <tr>\n",
       "      <th>0</th>\n",
       "      <td>0.988823</td>\n",
       "      <td>0.995025</td>\n",
       "      <td>0.995635</td>\n",
       "      <td>0.996722</td>\n",
       "      <td>0.995127</td>\n",
       "    </tr>\n",
       "    <tr>\n",
       "      <th>1</th>\n",
       "      <td>1.002523</td>\n",
       "      <td>1.004235</td>\n",
       "      <td>1.003940</td>\n",
       "      <td>1.004447</td>\n",
       "      <td>0.999268</td>\n",
       "    </tr>\n",
       "    <tr>\n",
       "      <th>2</th>\n",
       "      <td>1.000519</td>\n",
       "      <td>1.003548</td>\n",
       "      <td>1.003375</td>\n",
       "      <td>1.002808</td>\n",
       "      <td>1.001514</td>\n",
       "    </tr>\n",
       "    <tr>\n",
       "      <th>3</th>\n",
       "      <td>0.997902</td>\n",
       "      <td>1.002235</td>\n",
       "      <td>1.002489</td>\n",
       "      <td>1.001836</td>\n",
       "      <td>1.002729</td>\n",
       "    </tr>\n",
       "    <tr>\n",
       "      <th>4</th>\n",
       "      <td>0.984940</td>\n",
       "      <td>0.993653</td>\n",
       "      <td>0.996634</td>\n",
       "      <td>1.003740</td>\n",
       "      <td>0.999298</td>\n",
       "    </tr>\n",
       "  </tbody>\n",
       "</table>\n",
       "</div>"
      ],
      "text/plain": [
       "          0         1         2         3         4\n",
       "0  0.988823  0.995025  0.995635  0.996722  0.995127\n",
       "1  1.002523  1.004235  1.003940  1.004447  0.999268\n",
       "2  1.000519  1.003548  1.003375  1.002808  1.001514\n",
       "3  0.997902  1.002235  1.002489  1.001836  1.002729\n",
       "4  0.984940  0.993653  0.996634  1.003740  0.999298"
      ]
     },
     "execution_count": 328,
     "metadata": {},
     "output_type": "execute_result"
    }
   ],
   "source": [
    "mLTp / mLTu"
   ]
  },
  {
   "cell_type": "code",
   "execution_count": 329,
   "metadata": {},
   "outputs": [
    {
     "data": {
      "text/html": [
       "<div>\n",
       "<style scoped>\n",
       "    .dataframe tbody tr th:only-of-type {\n",
       "        vertical-align: middle;\n",
       "    }\n",
       "\n",
       "    .dataframe tbody tr th {\n",
       "        vertical-align: top;\n",
       "    }\n",
       "\n",
       "    .dataframe thead th {\n",
       "        text-align: right;\n",
       "    }\n",
       "</style>\n",
       "<table border=\"1\" class=\"dataframe\">\n",
       "  <thead>\n",
       "    <tr style=\"text-align: right;\">\n",
       "      <th></th>\n",
       "      <th>0</th>\n",
       "      <th>1</th>\n",
       "      <th>2</th>\n",
       "      <th>3</th>\n",
       "      <th>4</th>\n",
       "    </tr>\n",
       "  </thead>\n",
       "  <tbody>\n",
       "    <tr>\n",
       "      <th>0</th>\n",
       "      <td>1.003962</td>\n",
       "      <td>1.004349</td>\n",
       "      <td>1.004854</td>\n",
       "      <td>1.004651</td>\n",
       "      <td>1.003350</td>\n",
       "    </tr>\n",
       "    <tr>\n",
       "      <th>1</th>\n",
       "      <td>1.003422</td>\n",
       "      <td>1.000031</td>\n",
       "      <td>0.999885</td>\n",
       "      <td>1.000590</td>\n",
       "      <td>1.003913</td>\n",
       "    </tr>\n",
       "    <tr>\n",
       "      <th>2</th>\n",
       "      <td>1.003373</td>\n",
       "      <td>1.000056</td>\n",
       "      <td>0.999811</td>\n",
       "      <td>1.000261</td>\n",
       "      <td>1.004177</td>\n",
       "    </tr>\n",
       "    <tr>\n",
       "      <th>3</th>\n",
       "      <td>1.004494</td>\n",
       "      <td>1.000798</td>\n",
       "      <td>1.000429</td>\n",
       "      <td>1.000871</td>\n",
       "      <td>1.004105</td>\n",
       "    </tr>\n",
       "    <tr>\n",
       "      <th>4</th>\n",
       "      <td>1.005258</td>\n",
       "      <td>1.005993</td>\n",
       "      <td>1.005968</td>\n",
       "      <td>1.005494</td>\n",
       "      <td>1.003863</td>\n",
       "    </tr>\n",
       "  </tbody>\n",
       "</table>\n",
       "</div>"
      ],
      "text/plain": [
       "          0         1         2         3         4\n",
       "0  1.003962  1.004349  1.004854  1.004651  1.003350\n",
       "1  1.003422  1.000031  0.999885  1.000590  1.003913\n",
       "2  1.003373  1.000056  0.999811  1.000261  1.004177\n",
       "3  1.004494  1.000798  1.000429  1.000871  1.004105\n",
       "4  1.005258  1.005993  1.005968  1.005494  1.003863"
      ]
     },
     "execution_count": 329,
     "metadata": {},
     "output_type": "execute_result"
    }
   ],
   "source": [
    "mE0p / mE0u"
   ]
  },
  {
   "cell_type": "code",
   "execution_count": null,
   "metadata": {},
   "outputs": [],
   "source": []
  }
 ],
 "metadata": {
  "kernelspec": {
   "display_name": "Python 3",
   "language": "python",
   "name": "python3"
  },
  "language_info": {
   "codemirror_mode": {
    "name": "ipython",
    "version": 3
   },
   "file_extension": ".py",
   "mimetype": "text/x-python",
   "name": "python",
   "nbconvert_exporter": "python",
   "pygments_lexer": "ipython3",
   "version": "3.7.0"
  }
 },
 "nbformat": 4,
 "nbformat_minor": 2
}
